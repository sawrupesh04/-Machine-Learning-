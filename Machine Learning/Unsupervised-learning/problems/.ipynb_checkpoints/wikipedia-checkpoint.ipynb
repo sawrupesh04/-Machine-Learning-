{
 "cells": [
  {
   "cell_type": "markdown",
   "metadata": {},
   "source": [
    "# Word frequency using \"TfidfVectorizer\"\n",
    "<b>It transforms a list of documents into a word frequency array, which it outputs as a csr_matrix.</b>"
   ]
  },
  {
   "cell_type": "code",
   "execution_count": 17,
   "metadata": {},
   "outputs": [],
   "source": [
    "# Let's import TfidVectorizer\n",
    "from sklearn.feature_extraction.text import TfidfVectorizer"
   ]
  },
  {
   "cell_type": "code",
   "execution_count": 22,
   "metadata": {},
   "outputs": [],
   "source": [
    "# Sample data in list\n",
    "documnets = ['cats say meow', 'dogs say woof', 'dogs chase cats']"
   ]
  },
  {
   "cell_type": "code",
   "execution_count": 23,
   "metadata": {},
   "outputs": [],
   "source": [
    "# intialize the \"TfidfVectorizer\"\n",
    "tfidv = TfidfVectorizer()"
   ]
  },
  {
   "cell_type": "code",
   "execution_count": 24,
   "metadata": {},
   "outputs": [],
   "source": [
    "# apply fit_transfer to tfidv\n",
    "doc_fre = tfidv.fit_transform(documnets)"
   ]
  },
  {
   "cell_type": "code",
   "execution_count": 25,
   "metadata": {},
   "outputs": [
    {
     "data": {
      "text/plain": [
       "array([[0.51785612, 0.        , 0.        , 0.68091856, 0.51785612,\n",
       "        0.        ],\n",
       "       [0.        , 0.        , 0.51785612, 0.        , 0.51785612,\n",
       "        0.68091856],\n",
       "       [0.51785612, 0.68091856, 0.51785612, 0.        , 0.        ,\n",
       "        0.        ]])"
      ]
     },
     "execution_count": 25,
     "metadata": {},
     "output_type": "execute_result"
    }
   ],
   "source": [
    "# print result using .toarray()\n",
    "doc_fre.toarray()"
   ]
  },
  {
   "cell_type": "code",
   "execution_count": 26,
   "metadata": {},
   "outputs": [],
   "source": [
    "# get the word\n",
    "words = tfidv.get_feature_names()"
   ]
  },
  {
   "cell_type": "code",
   "execution_count": 27,
   "metadata": {},
   "outputs": [
    {
     "data": {
      "text/plain": [
       "['cats', 'chase', 'dogs', 'meow', 'say', 'woof']"
      ]
     },
     "execution_count": 27,
     "metadata": {},
     "output_type": "execute_result"
    }
   ],
   "source": [
    "words"
   ]
  },
  {
   "cell_type": "markdown",
   "metadata": {},
   "source": [
    "# Get Word frequency from wikipedia page "
   ]
  },
  {
   "cell_type": "code",
   "execution_count": 28,
   "metadata": {},
   "outputs": [],
   "source": [
    "import requests\n",
    "\n",
    "import numpy as np\n",
    "import pandas as pd\n",
    "\n",
    "from scipy.sparse import csr_matrix\n",
    "\n",
    "from sklearn.cluster import KMeans\n",
    "from sklearn.decomposition import TruncatedSVD\n",
    "from sklearn.pipeline import make_pipeline"
   ]
  },
  {
   "cell_type": "code",
   "execution_count": 29,
   "metadata": {},
   "outputs": [],
   "source": [
    "df = pd.read_csv('https://raw.githubusercontent.com/sawrupesh04/DataCamp/master/Machine%20Learning/Unsupervised-learning/dataset/Wikipedia%20articles/wikipedia-vectors.csv', index_col=0)"
   ]
  },
  {
   "cell_type": "code",
   "execution_count": 30,
   "metadata": {},
   "outputs": [],
   "source": [
    "articles = csr_matrix(df.transpose())"
   ]
  },
  {
   "cell_type": "code",
   "execution_count": 31,
   "metadata": {},
   "outputs": [],
   "source": [
    "titles = list(df.columns)"
   ]
  },
  {
   "cell_type": "code",
   "execution_count": 32,
   "metadata": {},
   "outputs": [],
   "source": [
    "# Let's create TruncatedSVD instance\n",
    "tsvd = TruncatedSVD(n_components=50)\n",
    "\n",
    "# Let's create Kmean instance with cluster=5\n",
    "kmean = KMeans(n_clusters=5)"
   ]
  },
  {
   "cell_type": "code",
   "execution_count": 33,
   "metadata": {},
   "outputs": [],
   "source": [
    "# Let's create pipeline\n",
    "pipeline = make_pipeline(tsvd, kmean)"
   ]
  },
  {
   "cell_type": "code",
   "execution_count": 34,
   "metadata": {},
   "outputs": [
    {
     "data": {
      "text/plain": [
       "Pipeline(memory=None,\n",
       "         steps=[('truncatedsvd',\n",
       "                 TruncatedSVD(algorithm='randomized', n_components=50, n_iter=5,\n",
       "                              random_state=None, tol=0.0)),\n",
       "                ('kmeans',\n",
       "                 KMeans(algorithm='auto', copy_x=True, init='k-means++',\n",
       "                        max_iter=300, n_clusters=5, n_init=10, n_jobs=None,\n",
       "                        precompute_distances='auto', random_state=None,\n",
       "                        tol=0.0001, verbose=0))],\n",
       "         verbose=False)"
      ]
     },
     "execution_count": 34,
     "metadata": {},
     "output_type": "execute_result"
    }
   ],
   "source": [
    "# fit \n",
    "pipeline.fit(articles)"
   ]
  },
  {
   "cell_type": "code",
   "execution_count": 35,
   "metadata": {},
   "outputs": [],
   "source": [
    "labels = pipeline.predict(articles)"
   ]
  },
  {
   "cell_type": "code",
   "execution_count": 36,
   "metadata": {},
   "outputs": [],
   "source": [
    "# create dateframe\n",
    "df = pd.DataFrame({'labels': labels, 'articles': titles})"
   ]
  },
  {
   "cell_type": "code",
   "execution_count": 37,
   "metadata": {},
   "outputs": [
    {
     "name": "stdout",
     "output_type": "stream",
     "text": [
      "    labels                                       articles\n",
      "29       0                               Jennifer Aniston\n",
      "28       0                                  Anne Hathaway\n",
      "27       0                                 Dakota Fanning\n",
      "26       0                                     Mila Kunis\n",
      "25       0                                  Russell Crowe\n",
      "24       0                                   Jessica Biel\n",
      "23       0                           Catherine Zeta-Jones\n",
      "22       0                              Denzel Washington\n",
      "21       0                             Michael Fassbender\n",
      "20       0                                 Angelina Jolie\n",
      "0        1                                       HTTP 404\n",
      "9        1                                       LinkedIn\n",
      "2        1                              Internet Explorer\n",
      "3        1                                    HTTP cookie\n",
      "4        1                                  Google Search\n",
      "5        1                                         Tumblr\n",
      "6        1                    Hypertext Transfer Protocol\n",
      "7        1                                  Social search\n",
      "8        1                                        Firefox\n",
      "1        1                                 Alexa Internet\n",
      "11       2       Nationally Appropriate Mitigation Action\n",
      "48       2                                     Gabapentin\n",
      "40       2                                    Tonsillitis\n",
      "41       2                                    Hepatitis B\n",
      "42       2                                    Doxycycline\n",
      "43       2                                       Leukemia\n",
      "44       2                                           Gout\n",
      "45       2                                    Hepatitis C\n",
      "49       2                                       Lymphoma\n",
      "10       2                                 Global warming\n",
      "47       2                                          Fever\n",
      "18       2  2010 United Nations Climate Change Conference\n",
      "12       2                                   Nigel Lawson\n",
      "13       2                               Connie Hedegaard\n",
      "14       2                                 Climate change\n",
      "46       2                                     Prednisone\n",
      "15       2                                 Kyoto Protocol\n",
      "16       2                                        350.org\n",
      "19       2  2007 United Nations Climate Change Conference\n",
      "17       2  Greenhouse gas emissions by the United States\n",
      "55       3                                  Black Sabbath\n",
      "50       3                                   Chad Kroeger\n",
      "51       3                                     Nate Ruess\n",
      "52       3                                     The Wanted\n",
      "53       3                                   Stevie Nicks\n",
      "54       3                                 Arctic Monkeys\n",
      "56       3                                       Skrillex\n",
      "57       3                          Red Hot Chili Peppers\n",
      "59       3                                    Adam Levine\n",
      "58       3                                         Sepsis\n",
      "38       4                                         Neymar\n",
      "37       4                                       Football\n",
      "36       4              2014 FIFA World Cup qualification\n",
      "34       4                             Zlatan Ibrahimović\n",
      "33       4                                 Radamel Falcao\n",
      "32       4                                   Arsenal F.C.\n",
      "31       4                              Cristiano Ronaldo\n",
      "30       4                  France national football team\n",
      "39       4                                  Franck Ribéry\n",
      "35       4                Colombia national football team\n"
     ]
    }
   ],
   "source": [
    "print(df.sort_values('labels'))"
   ]
  },
  {
   "cell_type": "markdown",
   "metadata": {},
   "source": [
    "### Let's reduce the dimension of articles using NMF\n",
    "<b>Get info about <a href='https://mlexplained.com/2017/12/28/a-practical-introduction-to-nmf-nonnegative-matrix-factorization/'>NMF</a></b>"
   ]
  },
  {
   "cell_type": "code",
   "execution_count": 38,
   "metadata": {},
   "outputs": [],
   "source": [
    "from sklearn.decomposition import NMF"
   ]
  },
  {
   "cell_type": "code",
   "execution_count": 39,
   "metadata": {},
   "outputs": [],
   "source": [
    "# Create a NMF model\n",
    "model = NMF(n_components=6)"
   ]
  },
  {
   "cell_type": "code",
   "execution_count": 40,
   "metadata": {},
   "outputs": [],
   "source": [
    "# fit the model\n",
    "model.fit(articles)\n",
    "\n",
    "# transform the feature nmf_features\n",
    "nmf_features = model.transform(articles)"
   ]
  },
  {
   "cell_type": "code",
   "execution_count": 41,
   "metadata": {},
   "outputs": [
    {
     "data": {
      "text/plain": [
       "array([[0.00000000e+00, 0.00000000e+00, 0.00000000e+00, 0.00000000e+00,\n",
       "        0.00000000e+00, 4.40519498e-01],\n",
       "       [0.00000000e+00, 0.00000000e+00, 0.00000000e+00, 0.00000000e+00,\n",
       "        0.00000000e+00, 5.66674144e-01],\n",
       "       [3.82024669e-03, 0.00000000e+00, 0.00000000e+00, 0.00000000e+00,\n",
       "        0.00000000e+00, 3.98695604e-01],\n",
       "       [0.00000000e+00, 0.00000000e+00, 0.00000000e+00, 0.00000000e+00,\n",
       "        0.00000000e+00, 3.81786828e-01],\n",
       "       [0.00000000e+00, 0.00000000e+00, 0.00000000e+00, 0.00000000e+00,\n",
       "        0.00000000e+00, 4.85576056e-01],\n",
       "       [1.29280793e-02, 1.37894216e-02, 7.76328904e-03, 3.34410240e-02,\n",
       "        0.00000000e+00, 3.34563100e-01],\n",
       "       [0.00000000e+00, 0.00000000e+00, 2.06743204e-02, 0.00000000e+00,\n",
       "        6.04397024e-03, 3.59105336e-01],\n",
       "       [0.00000000e+00, 0.00000000e+00, 0.00000000e+00, 0.00000000e+00,\n",
       "        0.00000000e+00, 4.91036326e-01],\n",
       "       [1.54261929e-02, 1.42821634e-02, 3.76635149e-03, 2.37058370e-02,\n",
       "        2.62581725e-02, 4.80833587e-01],\n",
       "       [1.11730013e-02, 3.13687777e-02, 3.09487965e-02, 6.56851297e-02,\n",
       "        1.96648452e-02, 3.38330429e-01],\n",
       "       [0.00000000e+00, 0.00000000e+00, 5.30723468e-01, 0.00000000e+00,\n",
       "        2.83638897e-02, 0.00000000e+00],\n",
       "       [0.00000000e+00, 0.00000000e+00, 3.56511996e-01, 0.00000000e+00,\n",
       "        0.00000000e+00, 0.00000000e+00],\n",
       "       [1.20118028e-02, 6.50056025e-03, 3.12247619e-01, 6.09634321e-02,\n",
       "        1.13844985e-02, 1.92626568e-02],\n",
       "       [3.93455177e-03, 6.24453371e-03, 3.42375849e-01, 1.10744200e-02,\n",
       "        0.00000000e+00, 0.00000000e+00],\n",
       "       [4.63785649e-03, 0.00000000e+00, 4.34918366e-01, 0.00000000e+00,\n",
       "        3.84220174e-02, 3.08171948e-03],\n",
       "       [0.00000000e+00, 0.00000000e+00, 4.83292745e-01, 0.00000000e+00,\n",
       "        0.00000000e+00, 0.00000000e+00],\n",
       "       [5.64973329e-03, 1.83538693e-02, 3.76535851e-01, 3.25388021e-02,\n",
       "        0.00000000e+00, 1.13348694e-02],\n",
       "       [0.00000000e+00, 0.00000000e+00, 4.80917406e-01, 0.00000000e+00,\n",
       "        0.00000000e+00, 0.00000000e+00],\n",
       "       [0.00000000e+00, 9.01879879e-03, 5.51012087e-01, 0.00000000e+00,\n",
       "        0.00000000e+00, 0.00000000e+00],\n",
       "       [0.00000000e+00, 0.00000000e+00, 4.65973137e-01, 0.00000000e+00,\n",
       "        0.00000000e+00, 0.00000000e+00],\n",
       "       [0.00000000e+00, 1.14082909e-02, 2.08657350e-02, 5.17651631e-01,\n",
       "        5.81325773e-02, 1.37871961e-02],\n",
       "       [0.00000000e+00, 0.00000000e+00, 0.00000000e+00, 5.10361260e-01,\n",
       "        0.00000000e+00, 0.00000000e+00],\n",
       "       [0.00000000e+00, 5.60114357e-03, 0.00000000e+00, 4.22285509e-01,\n",
       "        0.00000000e+00, 0.00000000e+00],\n",
       "       [0.00000000e+00, 0.00000000e+00, 0.00000000e+00, 4.36653700e-01,\n",
       "        0.00000000e+00, 0.00000000e+00],\n",
       "       [0.00000000e+00, 0.00000000e+00, 0.00000000e+00, 4.97980781e-01,\n",
       "        0.00000000e+00, 0.00000000e+00],\n",
       "       [9.88317831e-02, 8.60058469e-02, 3.91039081e-03, 3.80932401e-01,\n",
       "        4.39176718e-04, 5.22221513e-03],\n",
       "       [0.00000000e+00, 0.00000000e+00, 0.00000000e+00, 5.72042055e-01,\n",
       "        0.00000000e+00, 7.13640559e-03],\n",
       "       [1.31458635e-02, 1.04855167e-02, 0.00000000e+00, 4.68801296e-01,\n",
       "        0.00000000e+00, 1.16324808e-02],\n",
       "       [3.84520484e-03, 0.00000000e+00, 0.00000000e+00, 5.75581944e-01,\n",
       "        0.00000000e+00, 0.00000000e+00],\n",
       "       [2.25228359e-03, 1.38739960e-03, 0.00000000e+00, 5.27827798e-01,\n",
       "        1.20247511e-02, 1.49503450e-02],\n",
       "       [0.00000000e+00, 4.07554752e-01, 1.85715936e-03, 0.00000000e+00,\n",
       "        2.96568846e-03, 4.52386022e-04],\n",
       "       [1.53409405e-03, 6.08182850e-01, 5.22281387e-04, 6.24713298e-03,\n",
       "        1.18427836e-03, 4.40116506e-04],\n",
       "       [5.38777770e-03, 2.65021329e-01, 5.38515594e-04, 1.86884112e-02,\n",
       "        6.38560315e-03, 2.90140594e-03],\n",
       "       [0.00000000e+00, 6.44926305e-01, 0.00000000e+00, 0.00000000e+00,\n",
       "        0.00000000e+00, 0.00000000e+00],\n",
       "       [0.00000000e+00, 6.08916797e-01, 0.00000000e+00, 0.00000000e+00,\n",
       "        0.00000000e+00, 0.00000000e+00],\n",
       "       [0.00000000e+00, 3.43690794e-01, 0.00000000e+00, 0.00000000e+00,\n",
       "        3.97738751e-03, 0.00000000e+00],\n",
       "       [6.10461722e-03, 3.15317906e-01, 1.54881149e-02, 0.00000000e+00,\n",
       "        5.06172986e-03, 4.74392670e-03],\n",
       "       [6.47322858e-03, 2.13331993e-01, 9.49502985e-03, 4.56879137e-02,\n",
       "        1.71890047e-02, 9.52182112e-03],\n",
       "       [7.99085605e-03, 4.67602712e-01, 0.00000000e+00, 2.43370957e-02,\n",
       "        0.00000000e+00, 0.00000000e+00],\n",
       "       [0.00000000e+00, 6.42830483e-01, 0.00000000e+00, 2.35802079e-03,\n",
       "        0.00000000e+00, 0.00000000e+00],\n",
       "       [0.00000000e+00, 0.00000000e+00, 0.00000000e+00, 0.00000000e+00,\n",
       "        4.77012462e-01, 0.00000000e+00],\n",
       "       [0.00000000e+00, 0.00000000e+00, 0.00000000e+00, 0.00000000e+00,\n",
       "        4.94183154e-01, 0.00000000e+00],\n",
       "       [0.00000000e+00, 2.99075588e-04, 2.14491474e-03, 0.00000000e+00,\n",
       "        3.81722097e-01, 5.83858061e-03],\n",
       "       [0.00000000e+00, 0.00000000e+00, 0.00000000e+00, 5.64568929e-03,\n",
       "        5.42161233e-01, 0.00000000e+00],\n",
       "       [1.78046230e-03, 7.84426716e-04, 1.41629290e-02, 4.59723767e-04,\n",
       "        4.24239627e-01, 0.00000000e+00],\n",
       "       [0.00000000e+00, 0.00000000e+00, 0.00000000e+00, 0.00000000e+00,\n",
       "        5.11316322e-01, 0.00000000e+00],\n",
       "       [0.00000000e+00, 0.00000000e+00, 3.28390705e-03, 0.00000000e+00,\n",
       "        3.72831597e-01, 0.00000000e+00],\n",
       "       [0.00000000e+00, 2.62088873e-04, 3.61107660e-02, 2.32289070e-04,\n",
       "        2.30476604e-01, 0.00000000e+00],\n",
       "       [1.12509038e-02, 2.12330734e-03, 1.60973978e-02, 1.02461935e-02,\n",
       "        3.25413340e-01, 3.75927854e-02],\n",
       "       [0.00000000e+00, 0.00000000e+00, 0.00000000e+00, 0.00000000e+00,\n",
       "        4.18896259e-01, 3.57764120e-04],\n",
       "       [3.08349666e-01, 0.00000000e+00, 0.00000000e+00, 0.00000000e+00,\n",
       "        0.00000000e+00, 0.00000000e+00],\n",
       "       [3.68153169e-01, 0.00000000e+00, 0.00000000e+00, 0.00000000e+00,\n",
       "        0.00000000e+00, 0.00000000e+00],\n",
       "       [3.97922506e-01, 2.81707666e-02, 3.67014789e-03, 1.70028606e-02,\n",
       "        1.95938439e-03, 2.11670531e-02],\n",
       "       [3.75773495e-01, 2.07524133e-03, 0.00000000e+00, 3.72071109e-02,\n",
       "        0.00000000e+00, 5.86000050e-03],\n",
       "       [4.38003596e-01, 0.00000000e+00, 0.00000000e+00, 0.00000000e+00,\n",
       "        0.00000000e+00, 0.00000000e+00],\n",
       "       [4.57855295e-01, 0.00000000e+00, 0.00000000e+00, 0.00000000e+00,\n",
       "        0.00000000e+00, 0.00000000e+00],\n",
       "       [2.75461752e-01, 4.46963910e-03, 0.00000000e+00, 5.29537017e-02,\n",
       "        0.00000000e+00, 1.91021343e-02],\n",
       "       [4.45168916e-01, 0.00000000e+00, 0.00000000e+00, 0.00000000e+00,\n",
       "        5.48617797e-03, 0.00000000e+00],\n",
       "       [2.92723949e-01, 1.33666966e-02, 1.14264420e-02, 1.05176504e-02,\n",
       "        1.87668729e-01, 9.24079624e-03],\n",
       "       [3.78245247e-01, 1.43972645e-02, 0.00000000e+00, 9.85019213e-02,\n",
       "        1.35880359e-02, 0.00000000e+00]])"
      ]
     },
     "execution_count": 41,
     "metadata": {},
     "output_type": "execute_result"
    }
   ],
   "source": [
    "# print the nmf_features\n",
    "nmf_features"
   ]
  },
  {
   "cell_type": "code",
   "execution_count": 42,
   "metadata": {},
   "outputs": [
    {
     "name": "stdout",
     "output_type": "stream",
     "text": [
      "Articles Shape :        >>>     (60, 13125)\n",
      "NMF Features Shape :    >>>     (60, 6)\n"
     ]
    }
   ],
   "source": [
    "print('Articles Shape :        >>>    ', articles.shape)\n",
    "print('NMF Features Shape :    >>>    ', nmf_features.shape)"
   ]
  },
  {
   "cell_type": "markdown",
   "metadata": {},
   "source": [
    "We can clearly see the dimension reduction."
   ]
  },
  {
   "cell_type": "code",
   "execution_count": 43,
   "metadata": {},
   "outputs": [],
   "source": [
    "# create a pandas dataframe \n",
    "df = pd.DataFrame(nmf_features, index=titles)"
   ]
  },
  {
   "cell_type": "code",
   "execution_count": 44,
   "metadata": {},
   "outputs": [
    {
     "data": {
      "text/html": [
       "<div>\n",
       "<style scoped>\n",
       "    .dataframe tbody tr th:only-of-type {\n",
       "        vertical-align: middle;\n",
       "    }\n",
       "\n",
       "    .dataframe tbody tr th {\n",
       "        vertical-align: top;\n",
       "    }\n",
       "\n",
       "    .dataframe thead th {\n",
       "        text-align: right;\n",
       "    }\n",
       "</style>\n",
       "<table border=\"1\" class=\"dataframe\">\n",
       "  <thead>\n",
       "    <tr style=\"text-align: right;\">\n",
       "      <th></th>\n",
       "      <th>0</th>\n",
       "      <th>1</th>\n",
       "      <th>2</th>\n",
       "      <th>3</th>\n",
       "      <th>4</th>\n",
       "      <th>5</th>\n",
       "    </tr>\n",
       "  </thead>\n",
       "  <tbody>\n",
       "    <tr>\n",
       "      <th>HTTP 404</th>\n",
       "      <td>0.00000</td>\n",
       "      <td>0.0</td>\n",
       "      <td>0.0</td>\n",
       "      <td>0.0</td>\n",
       "      <td>0.0</td>\n",
       "      <td>0.440519</td>\n",
       "    </tr>\n",
       "    <tr>\n",
       "      <th>Alexa Internet</th>\n",
       "      <td>0.00000</td>\n",
       "      <td>0.0</td>\n",
       "      <td>0.0</td>\n",
       "      <td>0.0</td>\n",
       "      <td>0.0</td>\n",
       "      <td>0.566674</td>\n",
       "    </tr>\n",
       "    <tr>\n",
       "      <th>Internet Explorer</th>\n",
       "      <td>0.00382</td>\n",
       "      <td>0.0</td>\n",
       "      <td>0.0</td>\n",
       "      <td>0.0</td>\n",
       "      <td>0.0</td>\n",
       "      <td>0.398696</td>\n",
       "    </tr>\n",
       "    <tr>\n",
       "      <th>HTTP cookie</th>\n",
       "      <td>0.00000</td>\n",
       "      <td>0.0</td>\n",
       "      <td>0.0</td>\n",
       "      <td>0.0</td>\n",
       "      <td>0.0</td>\n",
       "      <td>0.381787</td>\n",
       "    </tr>\n",
       "    <tr>\n",
       "      <th>Google Search</th>\n",
       "      <td>0.00000</td>\n",
       "      <td>0.0</td>\n",
       "      <td>0.0</td>\n",
       "      <td>0.0</td>\n",
       "      <td>0.0</td>\n",
       "      <td>0.485576</td>\n",
       "    </tr>\n",
       "  </tbody>\n",
       "</table>\n",
       "</div>"
      ],
      "text/plain": [
       "                         0    1    2    3    4         5\n",
       "HTTP 404           0.00000  0.0  0.0  0.0  0.0  0.440519\n",
       "Alexa Internet     0.00000  0.0  0.0  0.0  0.0  0.566674\n",
       "Internet Explorer  0.00382  0.0  0.0  0.0  0.0  0.398696\n",
       "HTTP cookie        0.00000  0.0  0.0  0.0  0.0  0.381787\n",
       "Google Search      0.00000  0.0  0.0  0.0  0.0  0.485576"
      ]
     },
     "execution_count": 44,
     "metadata": {},
     "output_type": "execute_result"
    }
   ],
   "source": [
    "df.head()"
   ]
  },
  {
   "cell_type": "code",
   "execution_count": 45,
   "metadata": {},
   "outputs": [
    {
     "name": "stdout",
     "output_type": "stream",
     "text": [
      "0    0.003845\n",
      "1    0.000000\n",
      "2    0.000000\n",
      "3    0.575582\n",
      "4    0.000000\n",
      "5    0.000000\n",
      "Name: Anne Hathaway, dtype: float64\n",
      "----------------------\n",
      "0    0.000000\n",
      "1    0.005601\n",
      "2    0.000000\n",
      "3    0.422286\n",
      "4    0.000000\n",
      "5    0.000000\n",
      "Name: Denzel Washington, dtype: float64\n"
     ]
    }
   ],
   "source": [
    "print(df.loc['Anne Hathaway'])\n",
    "print('----------------------')\n",
    "print(df.loc['Denzel Washington'])"
   ]
  },
  {
   "cell_type": "markdown",
   "metadata": {},
   "source": [
    "The NMF feature 3 by far has highest value."
   ]
  },
  {
   "cell_type": "markdown",
   "metadata": {},
   "source": [
    "### Which article are similar to 'Cristiano Ronaldo'?"
   ]
  },
  {
   "cell_type": "code",
   "execution_count": 46,
   "metadata": {},
   "outputs": [],
   "source": [
    "# necessary imports\n",
    "from sklearn.preprocessing import normalize"
   ]
  },
  {
   "cell_type": "code",
   "execution_count": 48,
   "metadata": {},
   "outputs": [],
   "source": [
    "norm_feature = normalize(nmf_features)"
   ]
  },
  {
   "cell_type": "code",
   "execution_count": 49,
   "metadata": {},
   "outputs": [],
   "source": [
    "# create a dataframe\n",
    "new_df = pd.DataFrame(norm_feature, index=titles)"
   ]
  },
  {
   "cell_type": "code",
   "execution_count": 51,
   "metadata": {},
   "outputs": [],
   "source": [
    "# Select the 'Cristiano Ronaldo' article\n",
    "article = new_df.loc['Cristiano Ronaldo']"
   ]
  },
  {
   "cell_type": "code",
   "execution_count": 52,
   "metadata": {},
   "outputs": [],
   "source": [
    "# compute the dot product \n",
    "similarity = new_df.dot(article)"
   ]
  },
  {
   "cell_type": "code",
   "execution_count": 55,
   "metadata": {},
   "outputs": [
    {
     "data": {
      "text/plain": [
       "Cristiano Ronaldo                1.000000\n",
       "Franck Ribéry                    0.999972\n",
       "Radamel Falcao                   0.999942\n",
       "Zlatan Ibrahimović               0.999942\n",
       "France national football team    0.999923\n",
       "dtype: float64"
      ]
     },
     "execution_count": 55,
     "metadata": {},
     "output_type": "execute_result"
    }
   ],
   "source": [
    "# Get the larest similar articles\n",
    "similarity.nlargest()"
   ]
  },
  {
   "cell_type": "code",
   "execution_count": null,
   "metadata": {},
   "outputs": [],
   "source": []
  }
 ],
 "metadata": {
  "kernelspec": {
   "display_name": "Python 3",
   "language": "python",
   "name": "python3"
  },
  "language_info": {
   "codemirror_mode": {
    "name": "ipython",
    "version": 3
   },
   "file_extension": ".py",
   "mimetype": "text/x-python",
   "name": "python",
   "nbconvert_exporter": "python",
   "pygments_lexer": "ipython3",
   "version": "3.7.3"
  }
 },
 "nbformat": 4,
 "nbformat_minor": 2
}
