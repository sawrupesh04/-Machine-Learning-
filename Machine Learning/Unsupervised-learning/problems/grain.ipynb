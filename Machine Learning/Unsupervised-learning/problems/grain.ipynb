{
 "cells": [
  {
   "cell_type": "code",
   "execution_count": 1,
   "metadata": {},
   "outputs": [
    {
     "data": {
      "text/plain": [
       "'\\nCreated on Mon Oct 26 10:54:12 2019\\n\\n@author: rupesh\\n'"
      ]
     },
     "execution_count": 1,
     "metadata": {},
     "output_type": "execute_result"
    }
   ],
   "source": [
    "#!/usr/bin/env python3\n",
    "# -*- coding: utf-8 -*-\n",
    "\"\"\"\n",
    "Created on Mon Oct 26 10:54:12 2019\n",
    "\n",
    "@author: rupesh\n",
    "\"\"\""
   ]
  },
  {
   "cell_type": "markdown",
   "metadata": {},
   "source": [
    "## Roadmaps\n",
    "\n",
    "Four phases of machine learning\n",
    "1. [**Data Processing**](#data_processing)\n",
    "2. [**Feature Engineering and selection**](#feature)\n",
    "3. [**Modeling**](#model)\n",
    "4. [**Optimization**](#optimize)"
   ]
  },
  {
   "cell_type": "markdown",
   "metadata": {},
   "source": [
    "### Imports"
   ]
  },
  {
   "cell_type": "code",
   "execution_count": 2,
   "metadata": {},
   "outputs": [],
   "source": [
    "# Data manipulation\n",
    "import numpy as np\n",
    "import pandas as pd\n",
    "\n",
    "# Visulization\n",
    "import matplotlib.pyplot as plt"
   ]
  },
  {
   "cell_type": "code",
   "execution_count": 3,
   "metadata": {},
   "outputs": [],
   "source": [
    "df = pd.read_csv('https://raw.githubusercontent.com/sawrupesh04/DataCamp/master/Machine%20Learning/Unsupervised-learning/dataset/Grains/seeds.csv')"
   ]
  },
  {
   "cell_type": "code",
   "execution_count": 4,
   "metadata": {
    "scrolled": true
   },
   "outputs": [
    {
     "data": {
      "text/html": [
       "<div>\n",
       "<style scoped>\n",
       "    .dataframe tbody tr th:only-of-type {\n",
       "        vertical-align: middle;\n",
       "    }\n",
       "\n",
       "    .dataframe tbody tr th {\n",
       "        vertical-align: top;\n",
       "    }\n",
       "\n",
       "    .dataframe thead th {\n",
       "        text-align: right;\n",
       "    }\n",
       "</style>\n",
       "<table border=\"1\" class=\"dataframe\">\n",
       "  <thead>\n",
       "    <tr style=\"text-align: right;\">\n",
       "      <th></th>\n",
       "      <th>15.26</th>\n",
       "      <th>14.84</th>\n",
       "      <th>0.871</th>\n",
       "      <th>5.763</th>\n",
       "      <th>3.312</th>\n",
       "      <th>2.221</th>\n",
       "      <th>5.22</th>\n",
       "      <th>1</th>\n",
       "    </tr>\n",
       "  </thead>\n",
       "  <tbody>\n",
       "    <tr>\n",
       "      <th>0</th>\n",
       "      <td>14.88</td>\n",
       "      <td>14.57</td>\n",
       "      <td>0.8811</td>\n",
       "      <td>5.554</td>\n",
       "      <td>3.333</td>\n",
       "      <td>1.018</td>\n",
       "      <td>4.956</td>\n",
       "      <td>1</td>\n",
       "    </tr>\n",
       "    <tr>\n",
       "      <th>1</th>\n",
       "      <td>14.29</td>\n",
       "      <td>14.09</td>\n",
       "      <td>0.9050</td>\n",
       "      <td>5.291</td>\n",
       "      <td>3.337</td>\n",
       "      <td>2.699</td>\n",
       "      <td>4.825</td>\n",
       "      <td>1</td>\n",
       "    </tr>\n",
       "    <tr>\n",
       "      <th>2</th>\n",
       "      <td>13.84</td>\n",
       "      <td>13.94</td>\n",
       "      <td>0.8955</td>\n",
       "      <td>5.324</td>\n",
       "      <td>3.379</td>\n",
       "      <td>2.259</td>\n",
       "      <td>4.805</td>\n",
       "      <td>1</td>\n",
       "    </tr>\n",
       "    <tr>\n",
       "      <th>3</th>\n",
       "      <td>16.14</td>\n",
       "      <td>14.99</td>\n",
       "      <td>0.9034</td>\n",
       "      <td>5.658</td>\n",
       "      <td>3.562</td>\n",
       "      <td>1.355</td>\n",
       "      <td>5.175</td>\n",
       "      <td>1</td>\n",
       "    </tr>\n",
       "    <tr>\n",
       "      <th>4</th>\n",
       "      <td>14.38</td>\n",
       "      <td>14.21</td>\n",
       "      <td>0.8951</td>\n",
       "      <td>5.386</td>\n",
       "      <td>3.312</td>\n",
       "      <td>2.462</td>\n",
       "      <td>4.956</td>\n",
       "      <td>1</td>\n",
       "    </tr>\n",
       "  </tbody>\n",
       "</table>\n",
       "</div>"
      ],
      "text/plain": [
       "   15.26  14.84   0.871  5.763  3.312  2.221   5.22  1\n",
       "0  14.88  14.57  0.8811  5.554  3.333  1.018  4.956  1\n",
       "1  14.29  14.09  0.9050  5.291  3.337  2.699  4.825  1\n",
       "2  13.84  13.94  0.8955  5.324  3.379  2.259  4.805  1\n",
       "3  16.14  14.99  0.9034  5.658  3.562  1.355  5.175  1\n",
       "4  14.38  14.21  0.8951  5.386  3.312  2.462  4.956  1"
      ]
     },
     "execution_count": 4,
     "metadata": {},
     "output_type": "execute_result"
    }
   ],
   "source": [
    "df.head()"
   ]
  },
  {
   "cell_type": "markdown",
   "metadata": {},
   "source": [
    "Let's reset the columns"
   ]
  },
  {
   "cell_type": "code",
   "execution_count": 5,
   "metadata": {},
   "outputs": [],
   "source": [
    "columns = df.columns\n",
    "df.columns = range(df.shape[1])\n",
    "df.loc[-1] = columns.values\n",
    "df.index = df.index+1\n",
    "df.sort_index(inplace=True)"
   ]
  },
  {
   "cell_type": "code",
   "execution_count": null,
   "metadata": {},
   "outputs": [],
   "source": []
  },
  {
   "cell_type": "code",
   "execution_count": null,
   "metadata": {},
   "outputs": [],
   "source": []
  },
  {
   "cell_type": "code",
   "execution_count": 6,
   "metadata": {},
   "outputs": [
    {
     "data": {
      "text/html": [
       "<div>\n",
       "<style scoped>\n",
       "    .dataframe tbody tr th:only-of-type {\n",
       "        vertical-align: middle;\n",
       "    }\n",
       "\n",
       "    .dataframe tbody tr th {\n",
       "        vertical-align: top;\n",
       "    }\n",
       "\n",
       "    .dataframe thead th {\n",
       "        text-align: right;\n",
       "    }\n",
       "</style>\n",
       "<table border=\"1\" class=\"dataframe\">\n",
       "  <thead>\n",
       "    <tr style=\"text-align: right;\">\n",
       "      <th></th>\n",
       "      <th>0</th>\n",
       "      <th>1</th>\n",
       "      <th>2</th>\n",
       "      <th>3</th>\n",
       "      <th>4</th>\n",
       "      <th>5</th>\n",
       "      <th>6</th>\n",
       "      <th>7</th>\n",
       "    </tr>\n",
       "  </thead>\n",
       "  <tbody>\n",
       "    <tr>\n",
       "      <th>0</th>\n",
       "      <td>15.26</td>\n",
       "      <td>14.84</td>\n",
       "      <td>0.871</td>\n",
       "      <td>5.763</td>\n",
       "      <td>3.312</td>\n",
       "      <td>2.221</td>\n",
       "      <td>5.22</td>\n",
       "      <td>1</td>\n",
       "    </tr>\n",
       "    <tr>\n",
       "      <th>1</th>\n",
       "      <td>14.88</td>\n",
       "      <td>14.57</td>\n",
       "      <td>0.8811</td>\n",
       "      <td>5.554</td>\n",
       "      <td>3.333</td>\n",
       "      <td>1.018</td>\n",
       "      <td>4.956</td>\n",
       "      <td>1</td>\n",
       "    </tr>\n",
       "    <tr>\n",
       "      <th>2</th>\n",
       "      <td>14.29</td>\n",
       "      <td>14.09</td>\n",
       "      <td>0.905</td>\n",
       "      <td>5.291</td>\n",
       "      <td>3.337</td>\n",
       "      <td>2.699</td>\n",
       "      <td>4.825</td>\n",
       "      <td>1</td>\n",
       "    </tr>\n",
       "    <tr>\n",
       "      <th>3</th>\n",
       "      <td>13.84</td>\n",
       "      <td>13.94</td>\n",
       "      <td>0.8955</td>\n",
       "      <td>5.324</td>\n",
       "      <td>3.379</td>\n",
       "      <td>2.259</td>\n",
       "      <td>4.805</td>\n",
       "      <td>1</td>\n",
       "    </tr>\n",
       "    <tr>\n",
       "      <th>4</th>\n",
       "      <td>16.14</td>\n",
       "      <td>14.99</td>\n",
       "      <td>0.9034</td>\n",
       "      <td>5.658</td>\n",
       "      <td>3.562</td>\n",
       "      <td>1.355</td>\n",
       "      <td>5.175</td>\n",
       "      <td>1</td>\n",
       "    </tr>\n",
       "  </tbody>\n",
       "</table>\n",
       "</div>"
      ],
      "text/plain": [
       "       0      1       2      3      4      5      6  7\n",
       "0  15.26  14.84   0.871  5.763  3.312  2.221   5.22  1\n",
       "1  14.88  14.57  0.8811  5.554  3.333  1.018  4.956  1\n",
       "2  14.29  14.09   0.905  5.291  3.337  2.699  4.825  1\n",
       "3  13.84  13.94  0.8955  5.324  3.379  2.259  4.805  1\n",
       "4  16.14  14.99  0.9034  5.658  3.562  1.355  5.175  1"
      ]
     },
     "execution_count": 6,
     "metadata": {},
     "output_type": "execute_result"
    }
   ],
   "source": [
    "df.head()"
   ]
  },
  {
   "cell_type": "markdown",
   "metadata": {},
   "source": [
    "<a id='data_processing'></a>\n",
    "# Data Processing"
   ]
  },
  {
   "cell_type": "code",
   "execution_count": 7,
   "metadata": {},
   "outputs": [
    {
     "name": "stdout",
     "output_type": "stream",
     "text": [
      "<class 'pandas.core.frame.DataFrame'>\n",
      "Int64Index: 210 entries, 0 to 209\n",
      "Data columns (total 8 columns):\n",
      "0    210 non-null object\n",
      "1    210 non-null object\n",
      "2    210 non-null object\n",
      "3    210 non-null object\n",
      "4    210 non-null object\n",
      "5    210 non-null object\n",
      "6    210 non-null object\n",
      "7    210 non-null object\n",
      "dtypes: object(8)\n",
      "memory usage: 14.8+ KB\n"
     ]
    }
   ],
   "source": [
    "df.info()"
   ]
  },
  {
   "cell_type": "code",
   "execution_count": 8,
   "metadata": {
    "scrolled": true
   },
   "outputs": [
    {
     "data": {
      "text/html": [
       "<div>\n",
       "<style scoped>\n",
       "    .dataframe tbody tr th:only-of-type {\n",
       "        vertical-align: middle;\n",
       "    }\n",
       "\n",
       "    .dataframe tbody tr th {\n",
       "        vertical-align: top;\n",
       "    }\n",
       "\n",
       "    .dataframe thead th {\n",
       "        text-align: right;\n",
       "    }\n",
       "</style>\n",
       "<table border=\"1\" class=\"dataframe\">\n",
       "  <thead>\n",
       "    <tr style=\"text-align: right;\">\n",
       "      <th></th>\n",
       "      <th>0</th>\n",
       "      <th>1</th>\n",
       "      <th>2</th>\n",
       "      <th>3</th>\n",
       "      <th>4</th>\n",
       "      <th>5</th>\n",
       "      <th>6</th>\n",
       "      <th>7</th>\n",
       "    </tr>\n",
       "  </thead>\n",
       "  <tbody>\n",
       "    <tr>\n",
       "      <th>count</th>\n",
       "      <td>210.00</td>\n",
       "      <td>210.00</td>\n",
       "      <td>210.0000</td>\n",
       "      <td>210.000</td>\n",
       "      <td>210.000</td>\n",
       "      <td>210.0</td>\n",
       "      <td>210.000</td>\n",
       "      <td>210</td>\n",
       "    </tr>\n",
       "    <tr>\n",
       "      <th>unique</th>\n",
       "      <td>194.00</td>\n",
       "      <td>170.00</td>\n",
       "      <td>186.0000</td>\n",
       "      <td>188.000</td>\n",
       "      <td>185.000</td>\n",
       "      <td>208.0</td>\n",
       "      <td>149.000</td>\n",
       "      <td>4</td>\n",
       "    </tr>\n",
       "    <tr>\n",
       "      <th>top</th>\n",
       "      <td>15.38</td>\n",
       "      <td>13.47</td>\n",
       "      <td>0.8823</td>\n",
       "      <td>5.236</td>\n",
       "      <td>3.026</td>\n",
       "      <td>2.7</td>\n",
       "      <td>5.001</td>\n",
       "      <td>3</td>\n",
       "    </tr>\n",
       "    <tr>\n",
       "      <th>freq</th>\n",
       "      <td>3.00</td>\n",
       "      <td>4.00</td>\n",
       "      <td>3.0000</td>\n",
       "      <td>3.000</td>\n",
       "      <td>3.000</td>\n",
       "      <td>2.0</td>\n",
       "      <td>6.000</td>\n",
       "      <td>70</td>\n",
       "    </tr>\n",
       "  </tbody>\n",
       "</table>\n",
       "</div>"
      ],
      "text/plain": [
       "             0       1         2        3        4      5        6    7\n",
       "count   210.00  210.00  210.0000  210.000  210.000  210.0  210.000  210\n",
       "unique  194.00  170.00  186.0000  188.000  185.000  208.0  149.000    4\n",
       "top      15.38   13.47    0.8823    5.236    3.026    2.7    5.001    3\n",
       "freq      3.00    4.00    3.0000    3.000    3.000    2.0    6.000   70"
      ]
     },
     "execution_count": 8,
     "metadata": {},
     "output_type": "execute_result"
    }
   ],
   "source": [
    "df.describe()"
   ]
  },
  {
   "cell_type": "code",
   "execution_count": 9,
   "metadata": {},
   "outputs": [],
   "source": [
    "col = {}\n",
    "for i in range(8):\n",
    "    if i==7:\n",
    "        col[i] = 'int64'\n",
    "    else:\n",
    "        col[i]='float64'"
   ]
  },
  {
   "cell_type": "code",
   "execution_count": 10,
   "metadata": {},
   "outputs": [],
   "source": [
    "df = df.astype(col)"
   ]
  },
  {
   "cell_type": "code",
   "execution_count": 11,
   "metadata": {},
   "outputs": [
    {
     "name": "stdout",
     "output_type": "stream",
     "text": [
      "<class 'pandas.core.frame.DataFrame'>\n",
      "Int64Index: 210 entries, 0 to 209\n",
      "Data columns (total 8 columns):\n",
      "0    210 non-null float64\n",
      "1    210 non-null float64\n",
      "2    210 non-null float64\n",
      "3    210 non-null float64\n",
      "4    210 non-null float64\n",
      "5    210 non-null float64\n",
      "6    210 non-null float64\n",
      "7    210 non-null int64\n",
      "dtypes: float64(7), int64(1)\n",
      "memory usage: 14.8 KB\n"
     ]
    }
   ],
   "source": [
    "df.info()"
   ]
  },
  {
   "cell_type": "code",
   "execution_count": 12,
   "metadata": {},
   "outputs": [
    {
     "data": {
      "text/html": [
       "<div>\n",
       "<style scoped>\n",
       "    .dataframe tbody tr th:only-of-type {\n",
       "        vertical-align: middle;\n",
       "    }\n",
       "\n",
       "    .dataframe tbody tr th {\n",
       "        vertical-align: top;\n",
       "    }\n",
       "\n",
       "    .dataframe thead th {\n",
       "        text-align: right;\n",
       "    }\n",
       "</style>\n",
       "<table border=\"1\" class=\"dataframe\">\n",
       "  <thead>\n",
       "    <tr style=\"text-align: right;\">\n",
       "      <th></th>\n",
       "      <th>0</th>\n",
       "      <th>1</th>\n",
       "      <th>2</th>\n",
       "      <th>3</th>\n",
       "      <th>4</th>\n",
       "      <th>5</th>\n",
       "      <th>6</th>\n",
       "      <th>7</th>\n",
       "    </tr>\n",
       "  </thead>\n",
       "  <tbody>\n",
       "    <tr>\n",
       "      <th>0</th>\n",
       "      <td>15.26</td>\n",
       "      <td>14.84</td>\n",
       "      <td>0.8710</td>\n",
       "      <td>5.763</td>\n",
       "      <td>3.312</td>\n",
       "      <td>2.221</td>\n",
       "      <td>5.220</td>\n",
       "      <td>1</td>\n",
       "    </tr>\n",
       "    <tr>\n",
       "      <th>1</th>\n",
       "      <td>14.88</td>\n",
       "      <td>14.57</td>\n",
       "      <td>0.8811</td>\n",
       "      <td>5.554</td>\n",
       "      <td>3.333</td>\n",
       "      <td>1.018</td>\n",
       "      <td>4.956</td>\n",
       "      <td>1</td>\n",
       "    </tr>\n",
       "    <tr>\n",
       "      <th>2</th>\n",
       "      <td>14.29</td>\n",
       "      <td>14.09</td>\n",
       "      <td>0.9050</td>\n",
       "      <td>5.291</td>\n",
       "      <td>3.337</td>\n",
       "      <td>2.699</td>\n",
       "      <td>4.825</td>\n",
       "      <td>1</td>\n",
       "    </tr>\n",
       "    <tr>\n",
       "      <th>3</th>\n",
       "      <td>13.84</td>\n",
       "      <td>13.94</td>\n",
       "      <td>0.8955</td>\n",
       "      <td>5.324</td>\n",
       "      <td>3.379</td>\n",
       "      <td>2.259</td>\n",
       "      <td>4.805</td>\n",
       "      <td>1</td>\n",
       "    </tr>\n",
       "    <tr>\n",
       "      <th>4</th>\n",
       "      <td>16.14</td>\n",
       "      <td>14.99</td>\n",
       "      <td>0.9034</td>\n",
       "      <td>5.658</td>\n",
       "      <td>3.562</td>\n",
       "      <td>1.355</td>\n",
       "      <td>5.175</td>\n",
       "      <td>1</td>\n",
       "    </tr>\n",
       "  </tbody>\n",
       "</table>\n",
       "</div>"
      ],
      "text/plain": [
       "       0      1       2      3      4      5      6  7\n",
       "0  15.26  14.84  0.8710  5.763  3.312  2.221  5.220  1\n",
       "1  14.88  14.57  0.8811  5.554  3.333  1.018  4.956  1\n",
       "2  14.29  14.09  0.9050  5.291  3.337  2.699  4.825  1\n",
       "3  13.84  13.94  0.8955  5.324  3.379  2.259  4.805  1\n",
       "4  16.14  14.99  0.9034  5.658  3.562  1.355  5.175  1"
      ]
     },
     "execution_count": 12,
     "metadata": {},
     "output_type": "execute_result"
    }
   ],
   "source": [
    "df.head()"
   ]
  },
  {
   "cell_type": "code",
   "execution_count": 13,
   "metadata": {},
   "outputs": [],
   "source": [
    "X = df.drop(7, axis=1)\n",
    "y = df[7]"
   ]
  },
  {
   "cell_type": "code",
   "execution_count": 14,
   "metadata": {},
   "outputs": [
    {
     "data": {
      "text/plain": [
       "(210, 7)"
      ]
     },
     "execution_count": 14,
     "metadata": {},
     "output_type": "execute_result"
    }
   ],
   "source": [
    "X.shape"
   ]
  },
  {
   "cell_type": "code",
   "execution_count": 15,
   "metadata": {},
   "outputs": [
    {
     "data": {
      "text/plain": [
       "(210,)"
      ]
     },
     "execution_count": 15,
     "metadata": {},
     "output_type": "execute_result"
    }
   ],
   "source": [
    "y.shape"
   ]
  },
  {
   "cell_type": "markdown",
   "metadata": {},
   "source": [
    "<a id='feature'></a>\n",
    "# Feature Engineering and Selection"
   ]
  },
  {
   "cell_type": "code",
   "execution_count": 16,
   "metadata": {},
   "outputs": [],
   "source": [
    "# model selection\n",
    "from sklearn.model_selection import train_test_split"
   ]
  },
  {
   "cell_type": "code",
   "execution_count": 17,
   "metadata": {},
   "outputs": [],
   "source": [
    "X_train, X_test, y_train, y_test = train_test_split(X, y, test_size=0.2)"
   ]
  },
  {
   "cell_type": "markdown",
   "metadata": {},
   "source": [
    "<a id='model'></a>\n",
    "# Modeling"
   ]
  },
  {
   "cell_type": "code",
   "execution_count": 18,
   "metadata": {},
   "outputs": [],
   "source": [
    "# Model\n",
    "from sklearn.cluster import KMeans\n",
    "from sklearn.metrics.cluster import completeness_score"
   ]
  },
  {
   "cell_type": "code",
   "execution_count": 19,
   "metadata": {},
   "outputs": [],
   "source": [
    "model = KMeans(n_clusters=3)"
   ]
  },
  {
   "cell_type": "code",
   "execution_count": 20,
   "metadata": {},
   "outputs": [
    {
     "data": {
      "text/plain": [
       "KMeans(algorithm='auto', copy_x=True, init='k-means++', max_iter=300,\n",
       "       n_clusters=3, n_init=10, n_jobs=None, precompute_distances='auto',\n",
       "       random_state=None, tol=0.0001, verbose=0)"
      ]
     },
     "execution_count": 20,
     "metadata": {},
     "output_type": "execute_result"
    }
   ],
   "source": [
    "model.fit(X, y)"
   ]
  },
  {
   "cell_type": "code",
   "execution_count": 21,
   "metadata": {},
   "outputs": [
    {
     "data": {
      "text/plain": [
       "587.3186115940427"
      ]
     },
     "execution_count": 21,
     "metadata": {},
     "output_type": "execute_result"
    }
   ],
   "source": [
    "model.inertia_"
   ]
  },
  {
   "cell_type": "code",
   "execution_count": 22,
   "metadata": {},
   "outputs": [],
   "source": [
    "predict = model.labels_"
   ]
  },
  {
   "cell_type": "markdown",
   "metadata": {},
   "source": [
    "### How many cluster for dataframe"
   ]
  },
  {
   "cell_type": "code",
   "execution_count": 23,
   "metadata": {},
   "outputs": [],
   "source": [
    "ks = range(1, 6)\n",
    "inertias = []\n",
    "for k in ks:\n",
    "    # create a KMeans instance with k clusters\n",
    "    model = KMeans(n_clusters=k)\n",
    "    \n",
    "    # fit the model\n",
    "    model.fit(X, y)\n",
    "    \n",
    "    # append the inertia to the list of inertias\n",
    "    inertias.append(model.inertia_)\n",
    "    "
   ]
  },
  {
   "cell_type": "code",
   "execution_count": 24,
   "metadata": {},
   "outputs": [
    {
     "data": {
      "image/png": "[encoded data removed]",
      "text/plain": [
       "<Figure size 432x288 with 1 Axes>"
      ]
     },
     "metadata": {
      "needs_background": "light"
     },
     "output_type": "display_data"
    }
   ],
   "source": [
    "plt.plot(ks, inertias, '-o')\n",
    "plt.xlabel('Number of cluster')\n",
    "plt.ylabel('Inertia')\n",
    "plt.xticks(ks)\n",
    "plt.show()"
   ]
  },
  {
   "cell_type": "markdown",
   "metadata": {},
   "source": [
    "Inertia decreases very slowly from 3 cluster to 4 cluster, so it look like 3 is good choice.\n",
    "\n",
    "In the above plot, we know the 3 clusters is a good choice. Let's intialize KMeans model with 3 cluster"
   ]
  },
  {
   "cell_type": "code",
   "execution_count": 25,
   "metadata": {},
   "outputs": [
    {
     "data": {
      "text/plain": [
       "KMeans(algorithm='auto', copy_x=True, init='k-means++', max_iter=300,\n",
       "       n_clusters=3, n_init=10, n_jobs=None, precompute_distances='auto',\n",
       "       random_state=None, tol=0.0001, verbose=0)"
      ]
     },
     "execution_count": 25,
     "metadata": {},
     "output_type": "execute_result"
    }
   ],
   "source": [
    "# Intialize the Kmean instance with three cluster\n",
    "model = KMeans(n_clusters=3)\n",
    "\n",
    "# Fit the model\n",
    "model.fit(X)"
   ]
  },
  {
   "cell_type": "code",
   "execution_count": 26,
   "metadata": {},
   "outputs": [],
   "source": [
    "# Get the predicted labels\n",
    "labels = model.predict(X)"
   ]
  },
  {
   "cell_type": "code",
   "execution_count": 27,
   "metadata": {},
   "outputs": [
    {
     "data": {
      "text/plain": [
       "array([0, 0, 0, 0, 0, 0, 0, 0, 0, 0, 0, 0, 0, 0, 0, 0, 2, 0, 0, 2, 0, 0,\n",
       "       0, 0, 0, 0, 2, 0, 0, 0, 0, 0, 0, 0, 0, 0, 0, 1, 0, 2, 0, 0, 0, 0,\n",
       "       0, 0, 0, 0, 0, 0, 0, 0, 0, 0, 0, 0, 0, 0, 0, 0, 2, 2, 2, 2, 0, 0,\n",
       "       0, 0, 0, 2, 1, 1, 1, 1, 1, 1, 1, 1, 1, 1, 1, 1, 1, 1, 1, 1, 1, 1,\n",
       "       1, 1, 1, 1, 1, 1, 1, 1, 1, 1, 1, 1, 0, 1, 1, 1, 1, 1, 1, 1, 1, 1,\n",
       "       1, 1, 1, 1, 1, 1, 1, 1, 1, 1, 1, 1, 0, 1, 0, 1, 1, 1, 1, 1, 1, 1,\n",
       "       0, 0, 0, 0, 1, 0, 0, 0, 2, 2, 2, 2, 2, 2, 2, 2, 2, 2, 2, 2, 2, 2,\n",
       "       2, 2, 2, 2, 2, 2, 2, 2, 2, 2, 2, 2, 2, 2, 2, 2, 2, 2, 2, 2, 2, 2,\n",
       "       2, 2, 2, 0, 2, 2, 2, 2, 2, 2, 2, 2, 2, 2, 2, 2, 2, 2, 2, 2, 2, 2,\n",
       "       2, 2, 2, 0, 2, 2, 2, 2, 2, 2, 2, 2], dtype=int32)"
      ]
     },
     "execution_count": 27,
     "metadata": {},
     "output_type": "execute_result"
    }
   ],
   "source": [
    "labels"
   ]
  },
  {
   "cell_type": "markdown",
   "metadata": {},
   "source": [
    "Grain samples comes from a mix 3 different grain varieties:\n",
    "<ul>\n",
    "    <li>Kama</li>\n",
    "    <li>Rosa</li>\n",
    "    <li>Canadian</li>\n",
    "</ul>\n",
    "In this notebook, cluster the grain samples into 3 clusters and compare the cluster to the grain varieties using\n",
    "cross-tabulation"
   ]
  },
  {
   "cell_type": "code",
   "execution_count": 28,
   "metadata": {},
   "outputs": [],
   "source": [
    "varieties = ['Kama wheat', \n",
    "             'Kama wheat', \n",
    "             'Kama wheat',\n",
    "             'Kama wheat',\n",
    "             'Kama wheat',\n",
    "             'Kama wheat',\n",
    "             'Kama wheat',\n",
    "             'Kama wheat',\n",
    "             'Kama wheat',\n",
    "             'Kama wheat',\n",
    "             'Kama wheat',\n",
    "             'Kama wheat',\n",
    "             'Kama wheat',\n",
    "             'Kama wheat',\n",
    "             'Kama wheat',\n",
    "             'Kama wheat',\n",
    "             'Kama wheat',\n",
    "             'Kama wheat',\n",
    "             'Kama wheat',\n",
    "             'Kama wheat',\n",
    "             'Kama wheat',\n",
    "             'Kama wheat',\n",
    "             'Kama wheat',\n",
    "             'Kama wheat',\n",
    "             'Kama wheat',\n",
    "             'Kama wheat',\n",
    "             'Kama wheat',\n",
    "             'Kama wheat',\n",
    "             'Kama wheat',\n",
    "             'Kama wheat',\n",
    "             'Kama wheat',\n",
    "             'Kama wheat',\n",
    "             'Kama wheat',\n",
    "             'Kama wheat',\n",
    "             'Kama wheat',\n",
    "             'Kama wheat',\n",
    "             'Kama wheat',\n",
    "             'Kama wheat',\n",
    "             'Kama wheat',\n",
    "             'Kama wheat',\n",
    "             'Kama wheat',\n",
    "             'Kama wheat',\n",
    "             'Kama wheat',\n",
    "             'Kama wheat',\n",
    "             'Kama wheat',\n",
    "             'Kama wheat',\n",
    "             'Kama wheat',\n",
    "             'Kama wheat',\n",
    "             'Kama wheat',\n",
    "             'Kama wheat',\n",
    "             'Kama wheat',\n",
    "             'Kama wheat',\n",
    "             'Kama wheat',\n",
    "             'Kama wheat',\n",
    "             'Kama wheat',\n",
    "             'Kama wheat',\n",
    "             'Kama wheat',\n",
    "             'Kama wheat',\n",
    "             'Kama wheat',\n",
    "             'Kama wheat',\n",
    "             'Kama wheat',\n",
    "             'Kama wheat',\n",
    "             'Kama wheat',\n",
    "             'Kama wheat',\n",
    "             'Kama wheat',\n",
    "             'Kama wheat',\n",
    "             'Kama wheat',\n",
    "             'Kama wheat',\n",
    "             'Kama wheat',\n",
    "             'Kama wheat',\n",
    "             'Rosa wheat',\n",
    "             'Rosa wheat',\n",
    "             'Rosa wheat',\n",
    "             'Rosa wheat',\n",
    "             'Rosa wheat',\n",
    "             'Rosa wheat',\n",
    "             'Rosa wheat',\n",
    "             'Rosa wheat',\n",
    "             'Rosa wheat',\n",
    "             'Rosa wheat',\n",
    "             'Rosa wheat',\n",
    "             'Rosa wheat',\n",
    "             'Rosa wheat',\n",
    "             'Rosa wheat',\n",
    "             'Rosa wheat',\n",
    "             'Rosa wheat',\n",
    "             'Rosa wheat',\n",
    "             'Rosa wheat',\n",
    "             'Rosa wheat',\n",
    "             'Rosa wheat',\n",
    "             'Rosa wheat',\n",
    "             'Rosa wheat',\n",
    "             'Rosa wheat',\n",
    "             'Rosa wheat',\n",
    "             'Rosa wheat',\n",
    "             'Rosa wheat',\n",
    "             'Rosa wheat',\n",
    "             'Rosa wheat',\n",
    "             'Rosa wheat',\n",
    "             'Rosa wheat',\n",
    "             'Rosa wheat',\n",
    "             'Rosa wheat',\n",
    "             'Rosa wheat',\n",
    "             'Rosa wheat',\n",
    "             'Rosa wheat',\n",
    "             'Rosa wheat',\n",
    "             'Rosa wheat',\n",
    "             'Rosa wheat',\n",
    "             'Rosa wheat',\n",
    "             'Rosa wheat',\n",
    "             'Rosa wheat',\n",
    "             'Rosa wheat',\n",
    "             'Rosa wheat',\n",
    "             'Rosa wheat',\n",
    "             'Rosa wheat',\n",
    "             'Rosa wheat',\n",
    "             'Rosa wheat',\n",
    "             'Rosa wheat',\n",
    "             'Rosa wheat',\n",
    "             'Rosa wheat',\n",
    "             'Rosa wheat',\n",
    "             'Rosa wheat',\n",
    "             'Rosa wheat',\n",
    "             'Rosa wheat',\n",
    "             'Rosa wheat',\n",
    "             'Rosa wheat',\n",
    "             'Rosa wheat',\n",
    "             'Rosa wheat',\n",
    "             'Rosa wheat',\n",
    "             'Rosa wheat',\n",
    "             'Rosa wheat',\n",
    "             'Rosa wheat',\n",
    "             'Rosa wheat',\n",
    "             'Rosa wheat',\n",
    "             'Rosa wheat',\n",
    "             'Rosa wheat',\n",
    "             'Rosa wheat',\n",
    "             'Rosa wheat',\n",
    "             'Rosa wheat',\n",
    "             'Rosa wheat',\n",
    "             'Canadian wheat',\n",
    "             'Canadian wheat',\n",
    "             'Canadian wheat',\n",
    "             'Canadian wheat',\n",
    "             'Canadian wheat',\n",
    "             'Canadian wheat',\n",
    "             'Canadian wheat',\n",
    "             'Canadian wheat',\n",
    "             'Canadian wheat',\n",
    "             'Canadian wheat',\n",
    "             'Canadian wheat',\n",
    "             'Canadian wheat',\n",
    "             'Canadian wheat',\n",
    "             'Canadian wheat',\n",
    "             'Canadian wheat',\n",
    "             'Canadian wheat',\n",
    "             'Canadian wheat',\n",
    "             'Canadian wheat',\n",
    "             'Canadian wheat',\n",
    "             'Canadian wheat',\n",
    "             'Canadian wheat',\n",
    "             'Canadian wheat',\n",
    "             'Canadian wheat',\n",
    "             'Canadian wheat',\n",
    "             'Canadian wheat',\n",
    "             'Canadian wheat',\n",
    "             'Canadian wheat',\n",
    "             'Canadian wheat',\n",
    "             'Canadian wheat',\n",
    "             'Canadian wheat',\n",
    "             'Canadian wheat',\n",
    "             'Canadian wheat',\n",
    "             'Canadian wheat',\n",
    "             'Canadian wheat',\n",
    "             'Canadian wheat',\n",
    "             'Canadian wheat',\n",
    "             'Canadian wheat',\n",
    "             'Canadian wheat',\n",
    "             'Canadian wheat',\n",
    "             'Canadian wheat',\n",
    "             'Canadian wheat',\n",
    "             'Canadian wheat',\n",
    "             'Canadian wheat',\n",
    "             'Canadian wheat',\n",
    "             'Canadian wheat',\n",
    "             'Canadian wheat',\n",
    "             'Canadian wheat',\n",
    "             'Canadian wheat',\n",
    "             'Canadian wheat',\n",
    "             'Canadian wheat',\n",
    "             'Canadian wheat',\n",
    "             'Canadian wheat',\n",
    "             'Canadian wheat',\n",
    "             'Canadian wheat',\n",
    "             'Canadian wheat',\n",
    "             'Canadian wheat',\n",
    "             'Canadian wheat',\n",
    "             'Canadian wheat',\n",
    "             'Canadian wheat',\n",
    "             'Canadian wheat',\n",
    "             'Canadian wheat',\n",
    "             'Canadian wheat',\n",
    "             'Canadian wheat',\n",
    "             'Canadian wheat',\n",
    "             'Canadian wheat',\n",
    "             'Canadian wheat',\n",
    "             'Canadian wheat',\n",
    "             'Canadian wheat',\n",
    "             'Canadian wheat',\n",
    "             'Canadian wheat']"
   ]
  },
  {
   "cell_type": "code",
   "execution_count": 29,
   "metadata": {},
   "outputs": [
    {
     "data": {
      "text/plain": [
       "210"
      ]
     },
     "execution_count": 29,
     "metadata": {},
     "output_type": "execute_result"
    }
   ],
   "source": [
    "len(varieties)"
   ]
  },
  {
   "cell_type": "code",
   "execution_count": 30,
   "metadata": {},
   "outputs": [],
   "source": [
    "# Create a dataframe with labels and varieties as columns\n",
    "myFrame = pd.DataFrame({'labels': labels, 'varieties': varieties})\n",
    "\n",
    "# Create cross-tab\n",
    "ct = pd.crosstab(myFrame['labels'], myFrame['varieties'])"
   ]
  },
  {
   "cell_type": "code",
   "execution_count": 31,
   "metadata": {},
   "outputs": [
    {
     "data": {
      "text/html": [
       "<div>\n",
       "<style scoped>\n",
       "    .dataframe tbody tr th:only-of-type {\n",
       "        vertical-align: middle;\n",
       "    }\n",
       "\n",
       "    .dataframe tbody tr th {\n",
       "        vertical-align: top;\n",
       "    }\n",
       "\n",
       "    .dataframe thead th {\n",
       "        text-align: right;\n",
       "    }\n",
       "</style>\n",
       "<table border=\"1\" class=\"dataframe\">\n",
       "  <thead>\n",
       "    <tr style=\"text-align: right;\">\n",
       "      <th>varieties</th>\n",
       "      <th>Canadian wheat</th>\n",
       "      <th>Kama wheat</th>\n",
       "      <th>Rosa wheat</th>\n",
       "    </tr>\n",
       "    <tr>\n",
       "      <th>labels</th>\n",
       "      <th></th>\n",
       "      <th></th>\n",
       "      <th></th>\n",
       "    </tr>\n",
       "  </thead>\n",
       "  <tbody>\n",
       "    <tr>\n",
       "      <th>0</th>\n",
       "      <td>2</td>\n",
       "      <td>60</td>\n",
       "      <td>10</td>\n",
       "    </tr>\n",
       "    <tr>\n",
       "      <th>1</th>\n",
       "      <td>0</td>\n",
       "      <td>1</td>\n",
       "      <td>60</td>\n",
       "    </tr>\n",
       "    <tr>\n",
       "      <th>2</th>\n",
       "      <td>68</td>\n",
       "      <td>9</td>\n",
       "      <td>0</td>\n",
       "    </tr>\n",
       "  </tbody>\n",
       "</table>\n",
       "</div>"
      ],
      "text/plain": [
       "varieties  Canadian wheat  Kama wheat  Rosa wheat\n",
       "labels                                           \n",
       "0                       2          60          10\n",
       "1                       0           1          60\n",
       "2                      68           9           0"
      ]
     },
     "execution_count": 31,
     "metadata": {},
     "output_type": "execute_result"
    }
   ],
   "source": [
    "ct"
   ]
  },
  {
   "cell_type": "markdown",
   "metadata": {},
   "source": [
    "The cross-tabulation shows that the 3 varieties of grain seperated really with  clusters"
   ]
  },
  {
   "cell_type": "markdown",
   "metadata": {},
   "source": [
    "## Hierarchical sample of the Data\n",
    "\n",
    "Scipy <b>linkage()</b> function perform hierarchical clutering on the sample data. Using <b>linkage()</b> function, \n",
    "we get the hierarchical cluster of the sample data and use <b>dendrogram()</b> to visualize the result."
   ]
  },
  {
   "cell_type": "code",
   "execution_count": 32,
   "metadata": {},
   "outputs": [],
   "source": [
    "from scipy.cluster.hierarchy import linkage, dendrogram"
   ]
  },
  {
   "cell_type": "code",
   "execution_count": 33,
   "metadata": {},
   "outputs": [
    {
     "data": {
      "image/png": "[encoded data removed]",
      "text/plain": [
       "<Figure size 432x288 with 1 Axes>"
      ]
     },
     "metadata": {
      "needs_background": "light"
     },
     "output_type": "display_data"
    }
   ],
   "source": [
    "# Let's get the first 42 samples to see the clear visulization\n",
    "samples = X[:42]\n",
    "\n",
    "# calculate linkages\n",
    "merging = linkage(samples, method='complete')\n",
    "\n",
    "#plt.figure(figsize=(30, 30))\n",
    "# plot the dendrogram\n",
    "dendrogram(merging,\n",
    "          labels=varieties[:42],\n",
    "          leaf_rotation=90,\n",
    "          leaf_font_size=6)\n",
    "\n",
    "plt.show()"
   ]
  },
  {
   "cell_type": "code",
   "execution_count": null,
   "metadata": {},
   "outputs": [],
   "source": []
  },
  {
   "cell_type": "markdown",
   "metadata": {},
   "source": [
    " Now, use the fcluster() function to extract the cluster labels for this intermediate clustering, and compare the labels with the grain varieties using a cross-tabulation."
   ]
  },
  {
   "cell_type": "code",
   "execution_count": 34,
   "metadata": {},
   "outputs": [],
   "source": [
    "from scipy.cluster.hierarchy import fcluster"
   ]
  },
  {
   "cell_type": "code",
   "execution_count": 35,
   "metadata": {},
   "outputs": [],
   "source": [
    "labels = fcluster(merging, 6, criterion='distance')"
   ]
  },
  {
   "cell_type": "code",
   "execution_count": 36,
   "metadata": {},
   "outputs": [
    {
     "data": {
      "text/plain": [
       "(42,)"
      ]
     },
     "execution_count": 36,
     "metadata": {},
     "output_type": "execute_result"
    }
   ],
   "source": [
    "labels.shape"
   ]
  },
  {
   "cell_type": "code",
   "execution_count": null,
   "metadata": {},
   "outputs": [],
   "source": []
  },
  {
   "cell_type": "code",
   "execution_count": null,
   "metadata": {},
   "outputs": [],
   "source": []
  },
  {
   "cell_type": "code",
   "execution_count": 37,
   "metadata": {},
   "outputs": [],
   "source": [
    "newDf = pd.DataFrame({'labels': labels, 'varieties': varieties[:42]})"
   ]
  },
  {
   "cell_type": "code",
   "execution_count": 38,
   "metadata": {},
   "outputs": [
    {
     "data": {
      "text/html": [
       "<div>\n",
       "<style scoped>\n",
       "    .dataframe tbody tr th:only-of-type {\n",
       "        vertical-align: middle;\n",
       "    }\n",
       "\n",
       "    .dataframe tbody tr th {\n",
       "        vertical-align: top;\n",
       "    }\n",
       "\n",
       "    .dataframe thead th {\n",
       "        text-align: right;\n",
       "    }\n",
       "</style>\n",
       "<table border=\"1\" class=\"dataframe\">\n",
       "  <thead>\n",
       "    <tr style=\"text-align: right;\">\n",
       "      <th>varieties</th>\n",
       "      <th>Kama wheat</th>\n",
       "    </tr>\n",
       "    <tr>\n",
       "      <th>labels</th>\n",
       "      <th></th>\n",
       "    </tr>\n",
       "  </thead>\n",
       "  <tbody>\n",
       "    <tr>\n",
       "      <th>1</th>\n",
       "      <td>2</td>\n",
       "    </tr>\n",
       "    <tr>\n",
       "      <th>2</th>\n",
       "      <td>40</td>\n",
       "    </tr>\n",
       "  </tbody>\n",
       "</table>\n",
       "</div>"
      ],
      "text/plain": [
       "varieties  Kama wheat\n",
       "labels               \n",
       "1                   2\n",
       "2                  40"
      ]
     },
     "execution_count": 38,
     "metadata": {},
     "output_type": "execute_result"
    }
   ],
   "source": [
    "pd.crosstab(newDf['labels'], newDf['varieties'])"
   ]
  },
  {
   "cell_type": "markdown",
   "metadata": {},
   "source": [
    "### Let's get the corelation between the features"
   ]
  },
  {
   "cell_type": "code",
   "execution_count": 90,
   "metadata": {},
   "outputs": [
    {
     "data": {
      "text/html": [
       "<div>\n",
       "<style scoped>\n",
       "    .dataframe tbody tr th:only-of-type {\n",
       "        vertical-align: middle;\n",
       "    }\n",
       "\n",
       "    .dataframe tbody tr th {\n",
       "        vertical-align: top;\n",
       "    }\n",
       "\n",
       "    .dataframe thead th {\n",
       "        text-align: right;\n",
       "    }\n",
       "</style>\n",
       "<table border=\"1\" class=\"dataframe\">\n",
       "  <thead>\n",
       "    <tr style=\"text-align: right;\">\n",
       "      <th></th>\n",
       "      <th>0</th>\n",
       "      <th>1</th>\n",
       "      <th>2</th>\n",
       "      <th>3</th>\n",
       "      <th>4</th>\n",
       "      <th>5</th>\n",
       "      <th>6</th>\n",
       "      <th>7</th>\n",
       "    </tr>\n",
       "  </thead>\n",
       "  <tbody>\n",
       "    <tr>\n",
       "      <th>0</th>\n",
       "      <td>15.26</td>\n",
       "      <td>14.84</td>\n",
       "      <td>0.8710</td>\n",
       "      <td>5.763</td>\n",
       "      <td>3.312</td>\n",
       "      <td>2.221</td>\n",
       "      <td>5.220</td>\n",
       "      <td>1</td>\n",
       "    </tr>\n",
       "    <tr>\n",
       "      <th>1</th>\n",
       "      <td>14.88</td>\n",
       "      <td>14.57</td>\n",
       "      <td>0.8811</td>\n",
       "      <td>5.554</td>\n",
       "      <td>3.333</td>\n",
       "      <td>1.018</td>\n",
       "      <td>4.956</td>\n",
       "      <td>1</td>\n",
       "    </tr>\n",
       "    <tr>\n",
       "      <th>2</th>\n",
       "      <td>14.29</td>\n",
       "      <td>14.09</td>\n",
       "      <td>0.9050</td>\n",
       "      <td>5.291</td>\n",
       "      <td>3.337</td>\n",
       "      <td>2.699</td>\n",
       "      <td>4.825</td>\n",
       "      <td>1</td>\n",
       "    </tr>\n",
       "    <tr>\n",
       "      <th>3</th>\n",
       "      <td>13.84</td>\n",
       "      <td>13.94</td>\n",
       "      <td>0.8955</td>\n",
       "      <td>5.324</td>\n",
       "      <td>3.379</td>\n",
       "      <td>2.259</td>\n",
       "      <td>4.805</td>\n",
       "      <td>1</td>\n",
       "    </tr>\n",
       "    <tr>\n",
       "      <th>4</th>\n",
       "      <td>16.14</td>\n",
       "      <td>14.99</td>\n",
       "      <td>0.9034</td>\n",
       "      <td>5.658</td>\n",
       "      <td>3.562</td>\n",
       "      <td>1.355</td>\n",
       "      <td>5.175</td>\n",
       "      <td>1</td>\n",
       "    </tr>\n",
       "  </tbody>\n",
       "</table>\n",
       "</div>"
      ],
      "text/plain": [
       "       0      1       2      3      4      5      6  7\n",
       "0  15.26  14.84  0.8710  5.763  3.312  2.221  5.220  1\n",
       "1  14.88  14.57  0.8811  5.554  3.333  1.018  4.956  1\n",
       "2  14.29  14.09  0.9050  5.291  3.337  2.699  4.825  1\n",
       "3  13.84  13.94  0.8955  5.324  3.379  2.259  4.805  1\n",
       "4  16.14  14.99  0.9034  5.658  3.562  1.355  5.175  1"
      ]
     },
     "execution_count": 90,
     "metadata": {},
     "output_type": "execute_result"
    }
   ],
   "source": [
    "df.head()"
   ]
  },
  {
   "cell_type": "code",
   "execution_count": 94,
   "metadata": {},
   "outputs": [],
   "source": [
    "# Let get the width and length of the grain dataset from df variable\n",
    "# in \"df\" 3-column is length and 4-column width\n",
    "grains_width_length = df[[4, 3]].values\n",
    "\n",
    "width = grains_width_length[:, 0]\n",
    "length = grains_width_length[:, 1]"
   ]
  },
  {
   "cell_type": "code",
   "execution_count": 95,
   "metadata": {},
   "outputs": [
    {
     "data": {
      "image/png": "[encoded data removed]",
      "text/plain": [
       "<Figure size 432x288 with 1 Axes>"
      ]
     },
     "metadata": {
      "needs_background": "light"
     },
     "output_type": "display_data"
    }
   ],
   "source": [
    "# Let's plot width vs length \n",
    "plt.scatter(width, length)\n",
    "plt.axis('equal')\n",
    "plt.show()"
   ]
  },
  {
   "cell_type": "code",
   "execution_count": 96,
   "metadata": {},
   "outputs": [
    {
     "name": "stdout",
     "output_type": "stream",
     "text": [
      "Correlation between width and length:      >>    0.8604149377143466\n"
     ]
    }
   ],
   "source": [
    "# Lets calculate the Pearson Correlation\n",
    "from scipy.stats import pearsonr\n",
    "\n",
    "corelation, pvalue = pearsonr(width, length)\n",
    "print(\"Correlation between width and length:      >>   \", corelation)"
   ]
  },
  {
   "cell_type": "markdown",
   "metadata": {},
   "source": [
    "We observed, length and width is highly correlated"
   ]
  },
  {
   "cell_type": "markdown",
   "metadata": {},
   "source": [
    "# Let's Decorrelate with PCA(Principle Component Analysis)"
   ]
  },
  {
   "cell_type": "code",
   "execution_count": 98,
   "metadata": {},
   "outputs": [],
   "source": [
    "# Let's import PCA from sklearn\n",
    "from sklearn.decomposition import PCA"
   ]
  },
  {
   "cell_type": "code",
   "execution_count": 99,
   "metadata": {},
   "outputs": [],
   "source": [
    "# Intiate PCA model\n",
    "model = PCA()\n",
    "\n",
    "# Let's apply .fit_transform to the model and assign to pca_features\n",
    "pca_features = model.fit_transform(grains_width_length)"
   ]
  },
  {
   "cell_type": "code",
   "execution_count": 100,
   "metadata": {},
   "outputs": [],
   "source": [
    "xs = pca_features[:, 0]\n",
    "ys = pca_features[:, 1]"
   ]
  },
  {
   "cell_type": "code",
   "execution_count": 110,
   "metadata": {},
   "outputs": [
    {
     "data": {
      "text/plain": [
       "array([ 4.48701536e-02, -1.04853394e-01, -2.76013257e-01, -2.87226133e-01,\n",
       "       -2.14516232e-01, -1.96070646e-01, -4.21863576e-02, -1.66650003e-01,\n",
       "        1.12533346e-01, -2.62395364e-02,  6.73928808e-02, -7.74647317e-02,\n",
       "       -7.52873846e-02, -1.66510665e-02,  1.75694184e-02, -2.34590748e-01,\n",
       "       -4.21318181e-01, -2.61320442e-01, -4.30192803e-01, -9.60472265e-02,\n",
       "        1.18514214e-01,  3.22563195e-04, -1.97778454e-01, -9.03020125e-02,\n",
       "        1.13018030e-01,  5.77271824e-03,  2.96505572e-02,  8.34891973e-02,\n",
       "       -2.70198731e-02,  7.69858755e-02,  1.06582768e-01, -4.34273038e-03,\n",
       "        1.12381094e-01,  5.57083022e-02, -2.99347942e-05, -1.22699614e-01,\n",
       "       -3.17732911e-02, -1.96376721e-01, -5.05461242e-03, -1.78272815e-01,\n",
       "       -1.00373201e-01, -9.99941473e-02, -2.69194811e-01,  5.31212157e-02,\n",
       "       -1.88092810e-01, -8.17092704e-02, -5.70530607e-02, -1.28469221e-01,\n",
       "       -7.83021121e-02,  3.20792963e-02, -3.81247563e-02, -1.05842828e-01,\n",
       "        1.67248904e-01, -3.37458674e-02,  1.83865510e-01,  8.27973805e-02,\n",
       "       -2.44785469e-01, -2.74261190e-01, -1.01975180e-01, -1.25791846e-01,\n",
       "       -8.23155216e-02, -1.72364729e-01, -1.86528402e-01, -4.19087375e-03,\n",
       "       -5.53497781e-02, -2.05487590e-01,  5.37028769e-02,  6.48937211e-02,\n",
       "        4.31753276e-02,  1.51269036e-01,  1.26893333e-01,  6.27694858e-02,\n",
       "       -3.46160968e-02, -1.80559923e-01,  7.33741440e-02,  5.27730448e-02,\n",
       "        1.67249101e-01,  1.80276008e-01,  2.29233173e-01, -9.48854747e-02,\n",
       "       -2.76474843e-03, -2.19000752e-01, -4.60756417e-02,  8.79546402e-02,\n",
       "        5.41462559e-02,  4.61684193e-02, -9.76224519e-02,  2.71856774e-01,\n",
       "        8.00337492e-03, -6.98368343e-02,  2.03858788e-01, -6.59935783e-02,\n",
       "        7.71361615e-02, -2.01496014e-01,  4.88919339e-01,  1.69034215e-01,\n",
       "        3.12466384e-02,  2.98703312e-01,  2.15708402e-01,  5.01859583e-02,\n",
       "       -1.47712649e-01, -1.67769263e-01, -1.77536343e-01,  1.48358368e-01,\n",
       "        1.41121025e-02, -1.44580880e-01, -8.64668179e-02,  1.66860098e-02,\n",
       "        2.80854928e-01,  1.56965751e-02, -8.67687629e-02,  2.15741735e-02,\n",
       "       -1.40490559e-01,  3.49864271e-02,  3.39155563e-02,  1.49169390e-01,\n",
       "       -2.21006177e-01, -3.39526042e-02, -1.00767311e-02,  9.22410775e-02,\n",
       "       -1.02276730e-01,  4.09938510e-02, -1.34532039e-02, -1.69472743e-01,\n",
       "       -4.18433279e-01, -1.61124705e-01,  1.61587685e-01, -1.05505476e-01,\n",
       "        1.69629451e-01, -2.27963696e-01, -1.57805869e-01, -1.06192965e-01,\n",
       "        1.56042717e-01,  3.34391306e-02, -2.06573923e-02, -2.55588407e-01,\n",
       "        8.74961161e-02,  2.07507893e-01,  1.08965281e-01, -8.52766638e-03,\n",
       "        1.03473227e-01,  8.68103947e-02, -1.11019691e-02, -3.42573057e-02,\n",
       "        1.69395170e-01,  2.16247769e-01,  1.25808492e-01, -6.77599433e-03,\n",
       "        1.12347849e-01,  2.70529393e-01,  8.83462803e-02,  2.28322417e-01,\n",
       "        1.86399683e-01,  1.73926113e-01,  9.74809485e-02,  2.06943343e-01,\n",
       "       -5.27868863e-02,  2.45135141e-01,  3.28621424e-01,  2.26072289e-01,\n",
       "        1.78501316e-01,  1.67021706e-01,  8.55188173e-02,  3.46354997e-02,\n",
       "       -3.73273087e-02, -9.03130281e-02,  8.02958596e-02,  1.89075091e-01,\n",
       "        1.65033787e-01,  7.39223632e-02,  2.34878654e-01,  2.31470377e-02,\n",
       "        3.57262380e-02,  6.64030508e-02,  2.50988347e-01, -7.72666493e-02,\n",
       "        1.39121606e-01,  1.65218888e-01,  9.83690796e-02,  1.07658163e-01,\n",
       "        2.77749574e-02, -6.50442741e-02,  2.05774575e-02, -1.84054951e-02,\n",
       "        9.35605837e-02,  2.73008685e-01,  2.79582625e-01,  1.03409100e-01,\n",
       "       -8.24382066e-03, -1.03522674e-01,  4.42637047e-02,  6.10947819e-03,\n",
       "       -8.22868021e-02,  1.96816879e-01, -3.27410900e-02, -1.97450348e-01,\n",
       "       -1.01171044e-01, -9.67325526e-02,  1.27686256e-01, -2.75356651e-01,\n",
       "       -5.43735225e-02, -3.16854106e-01, -5.09114841e-02, -1.55831722e-01,\n",
       "       -4.16554470e-02, -1.00626757e-01,  4.43475020e-02, -2.30405812e-01,\n",
       "        3.51819507e-02, -2.74982647e-02])"
      ]
     },
     "execution_count": 110,
     "metadata": {},
     "output_type": "execute_result"
    }
   ],
   "source": [
    "ys"
   ]
  },
  {
   "cell_type": "code",
   "execution_count": 107,
   "metadata": {},
   "outputs": [
    {
     "data": {
      "image/png": "[encoded data removed]",
      "text/plain": [
       "<Figure size 432x288 with 1 Axes>"
      ]
     },
     "metadata": {
      "needs_background": "light"
     },
     "output_type": "display_data"
    }
   ],
   "source": [
    "# Let's plot and compare with above visulization\n",
    "plt.scatter(xs, ys)\n",
    "plt.axis('equal')\n",
    "plt.show()"
   ]
  },
  {
   "cell_type": "code",
   "execution_count": 108,
   "metadata": {},
   "outputs": [
    {
     "name": "stdout",
     "output_type": "stream",
     "text": [
      "Correlation between width and length:      >>    1.0408340855860843e-16\n"
     ]
    }
   ],
   "source": [
    "# Let's again calculate the Pearson correlation\n",
    "corelation, pvalue = pearsonr(xs, ys)\n",
    "print(\"Correlation between width and length:      >>   \", corelation)"
   ]
  },
  {
   "cell_type": "markdown",
   "metadata": {},
   "source": [
    "### Let's find the variation in the dataset"
   ]
  },
  {
   "cell_type": "code",
   "execution_count": 113,
   "metadata": {},
   "outputs": [
    {
     "data": {
      "image/png": "[encoded data removed]",
      "text/plain": [
       "<Figure size 432x288 with 1 Axes>"
      ]
     },
     "metadata": {
      "needs_background": "light"
     },
     "output_type": "display_data"
    }
   ],
   "source": [
    "# Let's make the scatter plot for untransformed point\n",
    "plt.scatter(width, length)\n",
    "\n",
    "# Create PCA instance\n",
    "model = PCA()\n",
    "\n",
    "# fit the model\n",
    "model.fit(grains_width_length)\n",
    "\n",
    "# Get the mean of the first component\n",
    "mean = model.mean_\n",
    "\n",
    "# Get the first component\n",
    "first_pc = model.components_[0, :]\n",
    "\n",
    "# plot arrow on scatter plot and get the variation in the dataset\n",
    "plt.arrow(mean[0], mean[1], first_pc[0], first_pc[1], color='red', width=0.02)\n",
    "\n",
    "plt.axis('equal')\n",
    "plt.show()"
   ]
  },
  {
   "cell_type": "markdown",
   "metadata": {},
   "source": [
    "This is the direction in which gain data varies more."
   ]
  },
  {
   "cell_type": "code",
   "execution_count": null,
   "metadata": {},
   "outputs": [],
   "source": []
  }
 ],
 "metadata": {
  "kernelspec": {
   "display_name": "Python 3",
   "language": "python",
   "name": "python3"
  },
  "language_info": {
   "codemirror_mode": {
    "name": "ipython",
    "version": 3
   },
   "file_extension": ".py",
   "mimetype": "text/x-python",
   "name": "python",
   "nbconvert_exporter": "python",
   "pygments_lexer": "ipython3",
   "version": "3.7.3"
  }
 },
 "nbformat": 4,
 "nbformat_minor": 2
}
