{
 "cells": [
  {
   "cell_type": "markdown",
   "metadata": {},
   "source": [
    "# Word frequency using \"TfidfVectorizer\"\n",
    "<b>It transforms a list of documents into a word frequency array, which it outputs as a csr_matrix.</b>"
   ]
  },
  {
   "cell_type": "code",
   "execution_count": 2,
   "metadata": {},
   "outputs": [],
   "source": [
    "# Let's import TfidVectorizer\n",
    "from sklearn.feature_extraction.text import TfidfVectorizer"
   ]
  },
  {
   "cell_type": "code",
   "execution_count": 3,
   "metadata": {},
   "outputs": [],
   "source": [
    "# Sample data in list\n",
    "documnets = ['cats say meow', 'dogs say woof', 'dogs chase cats']"
   ]
  },
  {
   "cell_type": "code",
   "execution_count": 5,
   "metadata": {},
   "outputs": [],
   "source": [
    "# intialize the \"TfidfVectorizer\"\n",
    "tfidv = TfidfVectorizer()"
   ]
  },
  {
   "cell_type": "code",
   "execution_count": 6,
   "metadata": {},
   "outputs": [],
   "source": [
    "# apply fit_transfer to tfidv\n",
    "doc_fre = tfidv.fit_transform(documnets)"
   ]
  },
  {
   "cell_type": "code",
   "execution_count": 13,
   "metadata": {},
   "outputs": [
    {
     "data": {
      "text/plain": [
       "array([[0.51785612, 0.        , 0.        , 0.68091856, 0.51785612,\n",
       "        0.        ],\n",
       "       [0.        , 0.        , 0.51785612, 0.        , 0.51785612,\n",
       "        0.68091856],\n",
       "       [0.51785612, 0.68091856, 0.51785612, 0.        , 0.        ,\n",
       "        0.        ]])"
      ]
     },
     "execution_count": 13,
     "metadata": {},
     "output_type": "execute_result"
    }
   ],
   "source": [
    "# print result using .toarray()\n",
    "doc_fre.toarray()"
   ]
  },
  {
   "cell_type": "code",
   "execution_count": 14,
   "metadata": {},
   "outputs": [],
   "source": [
    "# get the word\n",
    "words = tfidv.get_feature_names()"
   ]
  },
  {
   "cell_type": "code",
   "execution_count": 12,
   "metadata": {},
   "outputs": [
    {
     "data": {
      "text/plain": [
       "['cats', 'chase', 'dogs', 'meow', 'say', 'woof']"
      ]
     },
     "execution_count": 12,
     "metadata": {},
     "output_type": "execute_result"
    }
   ],
   "source": [
    "words"
   ]
  },
  {
   "cell_type": "markdown",
   "metadata": {},
   "source": [
    "# Get Word frequency from wikipedia page "
   ]
  },
  {
   "cell_type": "code",
   "execution_count": 54,
   "metadata": {},
   "outputs": [],
   "source": [
    "import requests\n",
    "\n",
    "import numpy as np\n",
    "import pandas as pd\n",
    "\n",
    "from scipy.sparse import csr_matrix\n",
    "\n",
    "from sklearn.cluster import KMeans\n",
    "from sklearn.decomposition import TruncatedSVD\n",
    "from sklearn.pipeline import make_pipeline"
   ]
  },
  {
   "cell_type": "code",
   "execution_count": 52,
   "metadata": {},
   "outputs": [],
   "source": [
    "df = pd.read_csv('https://raw.githubusercontent.com/sawrupesh04/DataCamp/master/Machine%20Learning/Unsupervised-learning/dataset/Wikipedia%20articles/wikipedia-vectors.csv', index_col=0)"
   ]
  },
  {
   "cell_type": "code",
   "execution_count": 55,
   "metadata": {},
   "outputs": [],
   "source": [
    "articles = csr_matrix(df.transpose())"
   ]
  },
  {
   "cell_type": "code",
   "execution_count": 56,
   "metadata": {},
   "outputs": [],
   "source": [
    "titles = list(df.columns)"
   ]
  },
  {
   "cell_type": "code",
   "execution_count": 57,
   "metadata": {},
   "outputs": [],
   "source": [
    "# Let's create TruncatedSVD instance\n",
    "tsvd = TruncatedSVD(n_components=50)\n",
    "\n",
    "# Let's create Kmean instance with cluster=5\n",
    "kmean = KMeans(n_clusters=5)"
   ]
  },
  {
   "cell_type": "code",
   "execution_count": 59,
   "metadata": {},
   "outputs": [],
   "source": [
    "# Let's create pipeline\n",
    "pipeline = make_pipeline(tsvd, kmean)"
   ]
  },
  {
   "cell_type": "code",
   "execution_count": 60,
   "metadata": {},
   "outputs": [
    {
     "data": {
      "text/plain": [
       "Pipeline(memory=None,\n",
       "         steps=[('truncatedsvd',\n",
       "                 TruncatedSVD(algorithm='randomized', n_components=50, n_iter=5,\n",
       "                              random_state=None, tol=0.0)),\n",
       "                ('kmeans',\n",
       "                 KMeans(algorithm='auto', copy_x=True, init='k-means++',\n",
       "                        max_iter=300, n_clusters=5, n_init=10, n_jobs=None,\n",
       "                        precompute_distances='auto', random_state=None,\n",
       "                        tol=0.0001, verbose=0))],\n",
       "         verbose=False)"
      ]
     },
     "execution_count": 60,
     "metadata": {},
     "output_type": "execute_result"
    }
   ],
   "source": [
    "# fit \n",
    "pipeline.fit(articles)"
   ]
  },
  {
   "cell_type": "code",
   "execution_count": 61,
   "metadata": {},
   "outputs": [],
   "source": [
    "labels = pipeline.predict(articles)"
   ]
  },
  {
   "cell_type": "code",
   "execution_count": 67,
   "metadata": {},
   "outputs": [],
   "source": [
    "# create dateframe\n",
    "df = pd.DataFrame({'labels': labels, 'articles': titles})"
   ]
  },
  {
   "cell_type": "code",
   "execution_count": 68,
   "metadata": {},
   "outputs": [
    {
     "name": "stdout",
     "output_type": "stream",
     "text": [
      "    labels                                       articles\n",
      "34       0                             Zlatan Ibrahimović\n",
      "31       0                              Cristiano Ronaldo\n",
      "35       0                Colombia national football team\n",
      "36       0              2014 FIFA World Cup qualification\n",
      "37       0                                       Football\n",
      "38       0                                         Neymar\n",
      "39       0                                  Franck Ribéry\n",
      "33       0                                 Radamel Falcao\n",
      "30       0                  France national football team\n",
      "32       0                                   Arsenal F.C.\n",
      "21       1                             Michael Fassbender\n",
      "22       1                              Denzel Washington\n",
      "23       1                           Catherine Zeta-Jones\n",
      "24       1                                   Jessica Biel\n",
      "25       1                                  Russell Crowe\n",
      "26       1                                     Mila Kunis\n",
      "20       1                                 Angelina Jolie\n",
      "29       1                               Jennifer Aniston\n",
      "27       1                                 Dakota Fanning\n",
      "28       1                                  Anne Hathaway\n",
      "50       2                                   Chad Kroeger\n",
      "58       2                                         Sepsis\n",
      "51       2                                     Nate Ruess\n",
      "52       2                                     The Wanted\n",
      "53       2                                   Stevie Nicks\n",
      "54       2                                 Arctic Monkeys\n",
      "55       2                                  Black Sabbath\n",
      "56       2                                       Skrillex\n",
      "57       2                          Red Hot Chili Peppers\n",
      "59       2                                    Adam Levine\n",
      "18       3  2010 United Nations Climate Change Conference\n",
      "17       3  Greenhouse gas emissions by the United States\n",
      "16       3                                        350.org\n",
      "15       3                                 Kyoto Protocol\n",
      "14       3                                 Climate change\n",
      "13       3                               Connie Hedegaard\n",
      "12       3                                   Nigel Lawson\n",
      "11       3       Nationally Appropriate Mitigation Action\n",
      "10       3                                 Global warming\n",
      "19       3  2007 United Nations Climate Change Conference\n",
      "7        4                                  Social search\n",
      "6        4                    Hypertext Transfer Protocol\n",
      "5        4                                         Tumblr\n",
      "1        4                                 Alexa Internet\n",
      "3        4                                    HTTP cookie\n",
      "2        4                              Internet Explorer\n",
      "8        4                                        Firefox\n",
      "4        4                                  Google Search\n",
      "49       4                                       Lymphoma\n",
      "44       4                                           Gout\n",
      "47       4                                          Fever\n",
      "46       4                                     Prednisone\n",
      "45       4                                    Hepatitis C\n",
      "43       4                                       Leukemia\n",
      "42       4                                    Doxycycline\n",
      "41       4                                    Hepatitis B\n",
      "40       4                                    Tonsillitis\n",
      "9        4                                       LinkedIn\n",
      "48       4                                     Gabapentin\n",
      "0        4                                       HTTP 404\n"
     ]
    }
   ],
   "source": [
    "print(df.sort_values('labels'))"
   ]
  },
  {
   "cell_type": "code",
   "execution_count": null,
   "metadata": {},
   "outputs": [],
   "source": []
  }
 ],
 "metadata": {
  "kernelspec": {
   "display_name": "Python 3",
   "language": "python",
   "name": "python3"
  },
  "language_info": {
   "codemirror_mode": {
    "name": "ipython",
    "version": 3
   },
   "file_extension": ".py",
   "mimetype": "text/x-python",
   "name": "python",
   "nbconvert_exporter": "python",
   "pygments_lexer": "ipython3",
   "version": "3.7.3"
  }
 },
 "nbformat": 4,
 "nbformat_minor": 2
}
