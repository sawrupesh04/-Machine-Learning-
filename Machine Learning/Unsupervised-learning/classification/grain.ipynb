{
 "cells": [
  {
   "cell_type": "code",
   "execution_count": 1,
   "metadata": {},
   "outputs": [
    {
     "data": {
      "text/plain": [
       "'\\nCreated on Mon Oct 26 10:54:12 2019\\n\\n@author: rupesh\\n'"
      ]
     },
     "execution_count": 1,
     "metadata": {},
     "output_type": "execute_result"
    }
   ],
   "source": [
    "#!/usr/bin/env python3\n",
    "# -*- coding: utf-8 -*-\n",
    "\"\"\"\n",
    "Created on Mon Oct 26 10:54:12 2019\n",
    "\n",
    "@author: rupesh\n",
    "\"\"\""
   ]
  },
  {
   "cell_type": "markdown",
   "metadata": {},
   "source": [
    "## Roadmaps\n",
    "\n",
    "Four phases of machine learning\n",
    "1. [**Data Processing**](#data_processing)\n",
    "2. [**Feature Engineering and selection**](#feature)\n",
    "3. [**Modeling**](#model)\n",
    "4. [**Optimization**](#optimize)"
   ]
  },
  {
   "cell_type": "markdown",
   "metadata": {},
   "source": [
    "### Imports"
   ]
  },
  {
   "cell_type": "code",
   "execution_count": 2,
   "metadata": {},
   "outputs": [],
   "source": [
    "# Data manipulation\n",
    "import numpy as np\n",
    "import pandas as pd\n",
    "\n",
    "# Visulization\n",
    "import matplotlib.pyplot as plt"
   ]
  },
  {
   "cell_type": "code",
   "execution_count": 3,
   "metadata": {},
   "outputs": [],
   "source": [
    "df = pd.read_csv('https://raw.githubusercontent.com/sawrupesh04/DataCamp/master/Machine%20Learning/Unsupervised-learning/dataset/Grains/seeds.csv')"
   ]
  },
  {
   "cell_type": "code",
   "execution_count": 4,
   "metadata": {
    "scrolled": true
   },
   "outputs": [
    {
     "data": {
      "text/html": [
       "<div>\n",
       "<style scoped>\n",
       "    .dataframe tbody tr th:only-of-type {\n",
       "        vertical-align: middle;\n",
       "    }\n",
       "\n",
       "    .dataframe tbody tr th {\n",
       "        vertical-align: top;\n",
       "    }\n",
       "\n",
       "    .dataframe thead th {\n",
       "        text-align: right;\n",
       "    }\n",
       "</style>\n",
       "<table border=\"1\" class=\"dataframe\">\n",
       "  <thead>\n",
       "    <tr style=\"text-align: right;\">\n",
       "      <th></th>\n",
       "      <th>15.26</th>\n",
       "      <th>14.84</th>\n",
       "      <th>0.871</th>\n",
       "      <th>5.763</th>\n",
       "      <th>3.312</th>\n",
       "      <th>2.221</th>\n",
       "      <th>5.22</th>\n",
       "      <th>1</th>\n",
       "    </tr>\n",
       "  </thead>\n",
       "  <tbody>\n",
       "    <tr>\n",
       "      <th>0</th>\n",
       "      <td>14.88</td>\n",
       "      <td>14.57</td>\n",
       "      <td>0.8811</td>\n",
       "      <td>5.554</td>\n",
       "      <td>3.333</td>\n",
       "      <td>1.018</td>\n",
       "      <td>4.956</td>\n",
       "      <td>1</td>\n",
       "    </tr>\n",
       "    <tr>\n",
       "      <th>1</th>\n",
       "      <td>14.29</td>\n",
       "      <td>14.09</td>\n",
       "      <td>0.9050</td>\n",
       "      <td>5.291</td>\n",
       "      <td>3.337</td>\n",
       "      <td>2.699</td>\n",
       "      <td>4.825</td>\n",
       "      <td>1</td>\n",
       "    </tr>\n",
       "    <tr>\n",
       "      <th>2</th>\n",
       "      <td>13.84</td>\n",
       "      <td>13.94</td>\n",
       "      <td>0.8955</td>\n",
       "      <td>5.324</td>\n",
       "      <td>3.379</td>\n",
       "      <td>2.259</td>\n",
       "      <td>4.805</td>\n",
       "      <td>1</td>\n",
       "    </tr>\n",
       "    <tr>\n",
       "      <th>3</th>\n",
       "      <td>16.14</td>\n",
       "      <td>14.99</td>\n",
       "      <td>0.9034</td>\n",
       "      <td>5.658</td>\n",
       "      <td>3.562</td>\n",
       "      <td>1.355</td>\n",
       "      <td>5.175</td>\n",
       "      <td>1</td>\n",
       "    </tr>\n",
       "    <tr>\n",
       "      <th>4</th>\n",
       "      <td>14.38</td>\n",
       "      <td>14.21</td>\n",
       "      <td>0.8951</td>\n",
       "      <td>5.386</td>\n",
       "      <td>3.312</td>\n",
       "      <td>2.462</td>\n",
       "      <td>4.956</td>\n",
       "      <td>1</td>\n",
       "    </tr>\n",
       "  </tbody>\n",
       "</table>\n",
       "</div>"
      ],
      "text/plain": [
       "   15.26  14.84   0.871  5.763  3.312  2.221   5.22  1\n",
       "0  14.88  14.57  0.8811  5.554  3.333  1.018  4.956  1\n",
       "1  14.29  14.09  0.9050  5.291  3.337  2.699  4.825  1\n",
       "2  13.84  13.94  0.8955  5.324  3.379  2.259  4.805  1\n",
       "3  16.14  14.99  0.9034  5.658  3.562  1.355  5.175  1\n",
       "4  14.38  14.21  0.8951  5.386  3.312  2.462  4.956  1"
      ]
     },
     "execution_count": 4,
     "metadata": {},
     "output_type": "execute_result"
    }
   ],
   "source": [
    "df.head()"
   ]
  },
  {
   "cell_type": "markdown",
   "metadata": {},
   "source": [
    "Let's reset the columns"
   ]
  },
  {
   "cell_type": "code",
   "execution_count": 5,
   "metadata": {},
   "outputs": [],
   "source": [
    "columns = df.columns\n",
    "df.columns = range(df.shape[1])\n",
    "df.loc[-1] = columns.values\n",
    "df.index = df.index+1\n",
    "df.sort_index(inplace=True)"
   ]
  },
  {
   "cell_type": "code",
   "execution_count": null,
   "metadata": {},
   "outputs": [],
   "source": []
  },
  {
   "cell_type": "code",
   "execution_count": null,
   "metadata": {},
   "outputs": [],
   "source": []
  },
  {
   "cell_type": "code",
   "execution_count": 6,
   "metadata": {},
   "outputs": [
    {
     "data": {
      "text/html": [
       "<div>\n",
       "<style scoped>\n",
       "    .dataframe tbody tr th:only-of-type {\n",
       "        vertical-align: middle;\n",
       "    }\n",
       "\n",
       "    .dataframe tbody tr th {\n",
       "        vertical-align: top;\n",
       "    }\n",
       "\n",
       "    .dataframe thead th {\n",
       "        text-align: right;\n",
       "    }\n",
       "</style>\n",
       "<table border=\"1\" class=\"dataframe\">\n",
       "  <thead>\n",
       "    <tr style=\"text-align: right;\">\n",
       "      <th></th>\n",
       "      <th>0</th>\n",
       "      <th>1</th>\n",
       "      <th>2</th>\n",
       "      <th>3</th>\n",
       "      <th>4</th>\n",
       "      <th>5</th>\n",
       "      <th>6</th>\n",
       "      <th>7</th>\n",
       "    </tr>\n",
       "  </thead>\n",
       "  <tbody>\n",
       "    <tr>\n",
       "      <th>0</th>\n",
       "      <td>15.26</td>\n",
       "      <td>14.84</td>\n",
       "      <td>0.871</td>\n",
       "      <td>5.763</td>\n",
       "      <td>3.312</td>\n",
       "      <td>2.221</td>\n",
       "      <td>5.22</td>\n",
       "      <td>1</td>\n",
       "    </tr>\n",
       "    <tr>\n",
       "      <th>1</th>\n",
       "      <td>14.88</td>\n",
       "      <td>14.57</td>\n",
       "      <td>0.8811</td>\n",
       "      <td>5.554</td>\n",
       "      <td>3.333</td>\n",
       "      <td>1.018</td>\n",
       "      <td>4.956</td>\n",
       "      <td>1</td>\n",
       "    </tr>\n",
       "    <tr>\n",
       "      <th>2</th>\n",
       "      <td>14.29</td>\n",
       "      <td>14.09</td>\n",
       "      <td>0.905</td>\n",
       "      <td>5.291</td>\n",
       "      <td>3.337</td>\n",
       "      <td>2.699</td>\n",
       "      <td>4.825</td>\n",
       "      <td>1</td>\n",
       "    </tr>\n",
       "    <tr>\n",
       "      <th>3</th>\n",
       "      <td>13.84</td>\n",
       "      <td>13.94</td>\n",
       "      <td>0.8955</td>\n",
       "      <td>5.324</td>\n",
       "      <td>3.379</td>\n",
       "      <td>2.259</td>\n",
       "      <td>4.805</td>\n",
       "      <td>1</td>\n",
       "    </tr>\n",
       "    <tr>\n",
       "      <th>4</th>\n",
       "      <td>16.14</td>\n",
       "      <td>14.99</td>\n",
       "      <td>0.9034</td>\n",
       "      <td>5.658</td>\n",
       "      <td>3.562</td>\n",
       "      <td>1.355</td>\n",
       "      <td>5.175</td>\n",
       "      <td>1</td>\n",
       "    </tr>\n",
       "  </tbody>\n",
       "</table>\n",
       "</div>"
      ],
      "text/plain": [
       "       0      1       2      3      4      5      6  7\n",
       "0  15.26  14.84   0.871  5.763  3.312  2.221   5.22  1\n",
       "1  14.88  14.57  0.8811  5.554  3.333  1.018  4.956  1\n",
       "2  14.29  14.09   0.905  5.291  3.337  2.699  4.825  1\n",
       "3  13.84  13.94  0.8955  5.324  3.379  2.259  4.805  1\n",
       "4  16.14  14.99  0.9034  5.658  3.562  1.355  5.175  1"
      ]
     },
     "execution_count": 6,
     "metadata": {},
     "output_type": "execute_result"
    }
   ],
   "source": [
    "df.head()"
   ]
  },
  {
   "cell_type": "markdown",
   "metadata": {},
   "source": [
    "<a id='data_processing'></a>\n",
    "# Data Processing"
   ]
  },
  {
   "cell_type": "code",
   "execution_count": 7,
   "metadata": {},
   "outputs": [
    {
     "name": "stdout",
     "output_type": "stream",
     "text": [
      "<class 'pandas.core.frame.DataFrame'>\n",
      "Int64Index: 210 entries, 0 to 209\n",
      "Data columns (total 8 columns):\n",
      "0    210 non-null object\n",
      "1    210 non-null object\n",
      "2    210 non-null object\n",
      "3    210 non-null object\n",
      "4    210 non-null object\n",
      "5    210 non-null object\n",
      "6    210 non-null object\n",
      "7    210 non-null object\n",
      "dtypes: object(8)\n",
      "memory usage: 14.8+ KB\n"
     ]
    }
   ],
   "source": [
    "df.info()"
   ]
  },
  {
   "cell_type": "code",
   "execution_count": 8,
   "metadata": {
    "scrolled": true
   },
   "outputs": [
    {
     "data": {
      "text/html": [
       "<div>\n",
       "<style scoped>\n",
       "    .dataframe tbody tr th:only-of-type {\n",
       "        vertical-align: middle;\n",
       "    }\n",
       "\n",
       "    .dataframe tbody tr th {\n",
       "        vertical-align: top;\n",
       "    }\n",
       "\n",
       "    .dataframe thead th {\n",
       "        text-align: right;\n",
       "    }\n",
       "</style>\n",
       "<table border=\"1\" class=\"dataframe\">\n",
       "  <thead>\n",
       "    <tr style=\"text-align: right;\">\n",
       "      <th></th>\n",
       "      <th>0</th>\n",
       "      <th>1</th>\n",
       "      <th>2</th>\n",
       "      <th>3</th>\n",
       "      <th>4</th>\n",
       "      <th>5</th>\n",
       "      <th>6</th>\n",
       "      <th>7</th>\n",
       "    </tr>\n",
       "  </thead>\n",
       "  <tbody>\n",
       "    <tr>\n",
       "      <th>count</th>\n",
       "      <td>210.00</td>\n",
       "      <td>210.00</td>\n",
       "      <td>210.0000</td>\n",
       "      <td>210.000</td>\n",
       "      <td>210.000</td>\n",
       "      <td>210.000</td>\n",
       "      <td>210.000</td>\n",
       "      <td>210</td>\n",
       "    </tr>\n",
       "    <tr>\n",
       "      <th>unique</th>\n",
       "      <td>194.00</td>\n",
       "      <td>170.00</td>\n",
       "      <td>186.0000</td>\n",
       "      <td>188.000</td>\n",
       "      <td>185.000</td>\n",
       "      <td>208.000</td>\n",
       "      <td>149.000</td>\n",
       "      <td>4</td>\n",
       "    </tr>\n",
       "    <tr>\n",
       "      <th>top</th>\n",
       "      <td>15.38</td>\n",
       "      <td>13.47</td>\n",
       "      <td>0.8823</td>\n",
       "      <td>5.236</td>\n",
       "      <td>3.026</td>\n",
       "      <td>2.129</td>\n",
       "      <td>5.001</td>\n",
       "      <td>3</td>\n",
       "    </tr>\n",
       "    <tr>\n",
       "      <th>freq</th>\n",
       "      <td>3.00</td>\n",
       "      <td>4.00</td>\n",
       "      <td>3.0000</td>\n",
       "      <td>3.000</td>\n",
       "      <td>3.000</td>\n",
       "      <td>2.000</td>\n",
       "      <td>6.000</td>\n",
       "      <td>70</td>\n",
       "    </tr>\n",
       "  </tbody>\n",
       "</table>\n",
       "</div>"
      ],
      "text/plain": [
       "             0       1         2        3        4        5        6    7\n",
       "count   210.00  210.00  210.0000  210.000  210.000  210.000  210.000  210\n",
       "unique  194.00  170.00  186.0000  188.000  185.000  208.000  149.000    4\n",
       "top      15.38   13.47    0.8823    5.236    3.026    2.129    5.001    3\n",
       "freq      3.00    4.00    3.0000    3.000    3.000    2.000    6.000   70"
      ]
     },
     "execution_count": 8,
     "metadata": {},
     "output_type": "execute_result"
    }
   ],
   "source": [
    "df.describe()"
   ]
  },
  {
   "cell_type": "code",
   "execution_count": 9,
   "metadata": {},
   "outputs": [],
   "source": [
    "col = {}\n",
    "for i in range(8):\n",
    "    if i==7:\n",
    "        col[i] = 'int64'\n",
    "    else:\n",
    "        col[i]='float64'"
   ]
  },
  {
   "cell_type": "code",
   "execution_count": 10,
   "metadata": {},
   "outputs": [],
   "source": [
    "df = df.astype(col)"
   ]
  },
  {
   "cell_type": "code",
   "execution_count": 11,
   "metadata": {},
   "outputs": [
    {
     "name": "stdout",
     "output_type": "stream",
     "text": [
      "<class 'pandas.core.frame.DataFrame'>\n",
      "Int64Index: 210 entries, 0 to 209\n",
      "Data columns (total 8 columns):\n",
      "0    210 non-null float64\n",
      "1    210 non-null float64\n",
      "2    210 non-null float64\n",
      "3    210 non-null float64\n",
      "4    210 non-null float64\n",
      "5    210 non-null float64\n",
      "6    210 non-null float64\n",
      "7    210 non-null int64\n",
      "dtypes: float64(7), int64(1)\n",
      "memory usage: 14.8 KB\n"
     ]
    }
   ],
   "source": [
    "df.info()"
   ]
  },
  {
   "cell_type": "code",
   "execution_count": 12,
   "metadata": {},
   "outputs": [
    {
     "data": {
      "text/html": [
       "<div>\n",
       "<style scoped>\n",
       "    .dataframe tbody tr th:only-of-type {\n",
       "        vertical-align: middle;\n",
       "    }\n",
       "\n",
       "    .dataframe tbody tr th {\n",
       "        vertical-align: top;\n",
       "    }\n",
       "\n",
       "    .dataframe thead th {\n",
       "        text-align: right;\n",
       "    }\n",
       "</style>\n",
       "<table border=\"1\" class=\"dataframe\">\n",
       "  <thead>\n",
       "    <tr style=\"text-align: right;\">\n",
       "      <th></th>\n",
       "      <th>0</th>\n",
       "      <th>1</th>\n",
       "      <th>2</th>\n",
       "      <th>3</th>\n",
       "      <th>4</th>\n",
       "      <th>5</th>\n",
       "      <th>6</th>\n",
       "      <th>7</th>\n",
       "    </tr>\n",
       "  </thead>\n",
       "  <tbody>\n",
       "    <tr>\n",
       "      <th>0</th>\n",
       "      <td>15.26</td>\n",
       "      <td>14.84</td>\n",
       "      <td>0.8710</td>\n",
       "      <td>5.763</td>\n",
       "      <td>3.312</td>\n",
       "      <td>2.221</td>\n",
       "      <td>5.220</td>\n",
       "      <td>1</td>\n",
       "    </tr>\n",
       "    <tr>\n",
       "      <th>1</th>\n",
       "      <td>14.88</td>\n",
       "      <td>14.57</td>\n",
       "      <td>0.8811</td>\n",
       "      <td>5.554</td>\n",
       "      <td>3.333</td>\n",
       "      <td>1.018</td>\n",
       "      <td>4.956</td>\n",
       "      <td>1</td>\n",
       "    </tr>\n",
       "    <tr>\n",
       "      <th>2</th>\n",
       "      <td>14.29</td>\n",
       "      <td>14.09</td>\n",
       "      <td>0.9050</td>\n",
       "      <td>5.291</td>\n",
       "      <td>3.337</td>\n",
       "      <td>2.699</td>\n",
       "      <td>4.825</td>\n",
       "      <td>1</td>\n",
       "    </tr>\n",
       "    <tr>\n",
       "      <th>3</th>\n",
       "      <td>13.84</td>\n",
       "      <td>13.94</td>\n",
       "      <td>0.8955</td>\n",
       "      <td>5.324</td>\n",
       "      <td>3.379</td>\n",
       "      <td>2.259</td>\n",
       "      <td>4.805</td>\n",
       "      <td>1</td>\n",
       "    </tr>\n",
       "    <tr>\n",
       "      <th>4</th>\n",
       "      <td>16.14</td>\n",
       "      <td>14.99</td>\n",
       "      <td>0.9034</td>\n",
       "      <td>5.658</td>\n",
       "      <td>3.562</td>\n",
       "      <td>1.355</td>\n",
       "      <td>5.175</td>\n",
       "      <td>1</td>\n",
       "    </tr>\n",
       "  </tbody>\n",
       "</table>\n",
       "</div>"
      ],
      "text/plain": [
       "       0      1       2      3      4      5      6  7\n",
       "0  15.26  14.84  0.8710  5.763  3.312  2.221  5.220  1\n",
       "1  14.88  14.57  0.8811  5.554  3.333  1.018  4.956  1\n",
       "2  14.29  14.09  0.9050  5.291  3.337  2.699  4.825  1\n",
       "3  13.84  13.94  0.8955  5.324  3.379  2.259  4.805  1\n",
       "4  16.14  14.99  0.9034  5.658  3.562  1.355  5.175  1"
      ]
     },
     "execution_count": 12,
     "metadata": {},
     "output_type": "execute_result"
    }
   ],
   "source": [
    "df.head()"
   ]
  },
  {
   "cell_type": "code",
   "execution_count": 13,
   "metadata": {},
   "outputs": [],
   "source": [
    "X = df.drop(7, axis=1)\n",
    "y = df[7]"
   ]
  },
  {
   "cell_type": "code",
   "execution_count": 14,
   "metadata": {},
   "outputs": [
    {
     "data": {
      "text/plain": [
       "(210, 7)"
      ]
     },
     "execution_count": 14,
     "metadata": {},
     "output_type": "execute_result"
    }
   ],
   "source": [
    "X.shape"
   ]
  },
  {
   "cell_type": "code",
   "execution_count": 15,
   "metadata": {},
   "outputs": [
    {
     "data": {
      "text/plain": [
       "(210,)"
      ]
     },
     "execution_count": 15,
     "metadata": {},
     "output_type": "execute_result"
    }
   ],
   "source": [
    "y.shape"
   ]
  },
  {
   "cell_type": "code",
   "execution_count": null,
   "metadata": {},
   "outputs": [],
   "source": []
  },
  {
   "cell_type": "markdown",
   "metadata": {},
   "source": [
    "<a id='feature'></a>\n",
    "# Feature Engineering and Selection"
   ]
  },
  {
   "cell_type": "code",
   "execution_count": 16,
   "metadata": {},
   "outputs": [],
   "source": [
    "# model selection\n",
    "from sklearn.model_selection import train_test_split"
   ]
  },
  {
   "cell_type": "code",
   "execution_count": 17,
   "metadata": {},
   "outputs": [],
   "source": [
    "X_train, X_test, y_train, y_test = train_test_split(X, y, test_size=0.2)"
   ]
  },
  {
   "cell_type": "markdown",
   "metadata": {},
   "source": [
    "<a id='model'></a>\n",
    "# Modeling"
   ]
  },
  {
   "cell_type": "code",
   "execution_count": 18,
   "metadata": {},
   "outputs": [],
   "source": [
    "# Model\n",
    "from sklearn.cluster import KMeans\n",
    "from sklearn.metrics.cluster import completeness_score"
   ]
  },
  {
   "cell_type": "code",
   "execution_count": 19,
   "metadata": {},
   "outputs": [],
   "source": [
    "model = KMeans(n_clusters=3)"
   ]
  },
  {
   "cell_type": "code",
   "execution_count": 20,
   "metadata": {},
   "outputs": [
    {
     "data": {
      "text/plain": [
       "KMeans(algorithm='auto', copy_x=True, init='k-means++', max_iter=300,\n",
       "       n_clusters=3, n_init=10, n_jobs=None, precompute_distances='auto',\n",
       "       random_state=None, tol=0.0001, verbose=0)"
      ]
     },
     "execution_count": 20,
     "metadata": {},
     "output_type": "execute_result"
    }
   ],
   "source": [
    "model.fit(X, y)"
   ]
  },
  {
   "cell_type": "code",
   "execution_count": 21,
   "metadata": {},
   "outputs": [
    {
     "data": {
      "text/plain": [
       "587.3186115940427"
      ]
     },
     "execution_count": 21,
     "metadata": {},
     "output_type": "execute_result"
    }
   ],
   "source": [
    "model.inertia_"
   ]
  },
  {
   "cell_type": "code",
   "execution_count": 22,
   "metadata": {},
   "outputs": [],
   "source": [
    "predict = model.labels_"
   ]
  },
  {
   "cell_type": "markdown",
   "metadata": {},
   "source": [
    "### How many cluster for dataframe"
   ]
  },
  {
   "cell_type": "code",
   "execution_count": 23,
   "metadata": {},
   "outputs": [],
   "source": [
    "ks = range(1, 6)\n",
    "inertias = []\n",
    "for k in ks:\n",
    "    # create a KMeans instance with k clusters\n",
    "    model = KMeans(n_clusters=k)\n",
    "    \n",
    "    # fit the model\n",
    "    model.fit(X, y)\n",
    "    \n",
    "    # append the inertia to the list of inertias\n",
    "    inertias.append(model.inertia_)\n",
    "    "
   ]
  },
  {
   "cell_type": "code",
   "execution_count": 24,
   "metadata": {},
   "outputs": [
    {
     "data": {
      "image/png": "[encoded data removed]",
      "text/plain": [
       "<Figure size 432x288 with 1 Axes>"
      ]
     },
     "metadata": {
      "needs_background": "light"
     },
     "output_type": "display_data"
    }
   ],
   "source": [
    "plt.plot(ks, inertias, '-o')\n",
    "plt.xlabel('Number of cluster')\n",
    "plt.ylabel('Inertia')\n",
    "plt.xticks(ks)\n",
    "plt.show()"
   ]
  },
  {
   "cell_type": "markdown",
   "metadata": {},
   "source": [
    "Inertia decreases very slowly from 3 cluster to 4 cluster, so it look like 3 is good choice.\n",
    "\n",
    "In the above plot, we know the 3 clusters is a good choice. Let's intialize KMeans model with 3 cluster"
   ]
  },
  {
   "cell_type": "code",
   "execution_count": 25,
   "metadata": {},
   "outputs": [
    {
     "data": {
      "text/plain": [
       "KMeans(algorithm='auto', copy_x=True, init='k-means++', max_iter=300,\n",
       "       n_clusters=3, n_init=10, n_jobs=None, precompute_distances='auto',\n",
       "       random_state=None, tol=0.0001, verbose=0)"
      ]
     },
     "execution_count": 25,
     "metadata": {},
     "output_type": "execute_result"
    }
   ],
   "source": [
    "# Intialize the Kmean instance with three cluster\n",
    "model = KMeans(n_clusters=3)\n",
    "\n",
    "# Fit the model\n",
    "model.fit(X)"
   ]
  },
  {
   "cell_type": "code",
   "execution_count": 26,
   "metadata": {},
   "outputs": [],
   "source": [
    "# Get the predicted labels\n",
    "labels = model.predict(X)"
   ]
  },
  {
   "cell_type": "code",
   "execution_count": 27,
   "metadata": {},
   "outputs": [
    {
     "data": {
      "text/plain": [
       "array([0, 0, 0, 0, 0, 0, 0, 0, 0, 0, 0, 0, 0, 0, 0, 0, 2, 0, 0, 2, 0, 0,\n",
       "       0, 0, 0, 0, 2, 0, 0, 0, 0, 0, 0, 0, 0, 0, 0, 1, 0, 2, 0, 0, 0, 0,\n",
       "       0, 0, 0, 0, 0, 0, 0, 0, 0, 0, 0, 0, 0, 0, 0, 0, 2, 2, 2, 2, 0, 0,\n",
       "       0, 0, 0, 2, 1, 1, 1, 1, 1, 1, 1, 1, 1, 1, 1, 1, 1, 1, 1, 1, 1, 1,\n",
       "       1, 1, 1, 1, 1, 1, 1, 1, 1, 1, 1, 1, 0, 1, 1, 1, 1, 1, 1, 1, 1, 1,\n",
       "       1, 1, 1, 1, 1, 1, 1, 1, 1, 1, 1, 1, 0, 1, 0, 1, 1, 1, 1, 1, 1, 1,\n",
       "       0, 0, 0, 0, 1, 0, 0, 0, 2, 2, 2, 2, 2, 2, 2, 2, 2, 2, 2, 2, 2, 2,\n",
       "       2, 2, 2, 2, 2, 2, 2, 2, 2, 2, 2, 2, 2, 2, 2, 2, 2, 2, 2, 2, 2, 2,\n",
       "       2, 2, 2, 0, 2, 2, 2, 2, 2, 2, 2, 2, 2, 2, 2, 2, 2, 2, 2, 2, 2, 2,\n",
       "       2, 2, 2, 0, 2, 2, 2, 2, 2, 2, 2, 2], dtype=int32)"
      ]
     },
     "execution_count": 27,
     "metadata": {},
     "output_type": "execute_result"
    }
   ],
   "source": [
    "labels"
   ]
  },
  {
   "cell_type": "markdown",
   "metadata": {},
   "source": [
    "Grain samples comes from a mix 3 different grain varieties:\n",
    "<ul>\n",
    "    <li>Kama</li>\n",
    "    <li>Rosa</li>\n",
    "    <li>Canadian</li>\n",
    "</ul>\n",
    "In this notebook, cluster the grain samples into 3 clusters and compare the cluster to the grain varieties using\n",
    "cross-tabulation"
   ]
  },
  {
   "cell_type": "code",
   "execution_count": 28,
   "metadata": {},
   "outputs": [],
   "source": [
    "varieties = ['Kama wheat', \n",
    "             'Kama wheat', \n",
    "             'Kama wheat',\n",
    "             'Kama wheat',\n",
    "             'Kama wheat',\n",
    "             'Kama wheat',\n",
    "             'Kama wheat',\n",
    "             'Kama wheat',\n",
    "             'Kama wheat',\n",
    "             'Kama wheat',\n",
    "             'Kama wheat',\n",
    "             'Kama wheat',\n",
    "             'Kama wheat',\n",
    "             'Kama wheat',\n",
    "             'Kama wheat',\n",
    "             'Kama wheat',\n",
    "             'Kama wheat',\n",
    "             'Kama wheat',\n",
    "             'Kama wheat',\n",
    "             'Kama wheat',\n",
    "             'Kama wheat',\n",
    "             'Kama wheat',\n",
    "             'Kama wheat',\n",
    "             'Kama wheat',\n",
    "             'Kama wheat',\n",
    "             'Kama wheat',\n",
    "             'Kama wheat',\n",
    "             'Kama wheat',\n",
    "             'Kama wheat',\n",
    "             'Kama wheat',\n",
    "             'Kama wheat',\n",
    "             'Kama wheat',\n",
    "             'Kama wheat',\n",
    "             'Kama wheat',\n",
    "             'Kama wheat',\n",
    "             'Kama wheat',\n",
    "             'Kama wheat',\n",
    "             'Kama wheat',\n",
    "             'Kama wheat',\n",
    "             'Kama wheat',\n",
    "             'Kama wheat',\n",
    "             'Kama wheat',\n",
    "             'Kama wheat',\n",
    "             'Kama wheat',\n",
    "             'Kama wheat',\n",
    "             'Kama wheat',\n",
    "             'Kama wheat',\n",
    "             'Kama wheat',\n",
    "             'Kama wheat',\n",
    "             'Kama wheat',\n",
    "             'Kama wheat',\n",
    "             'Kama wheat',\n",
    "             'Kama wheat',\n",
    "             'Kama wheat',\n",
    "             'Kama wheat',\n",
    "             'Kama wheat',\n",
    "             'Kama wheat',\n",
    "             'Kama wheat',\n",
    "             'Kama wheat',\n",
    "             'Kama wheat',\n",
    "             'Kama wheat',\n",
    "             'Kama wheat',\n",
    "             'Kama wheat',\n",
    "             'Kama wheat',\n",
    "             'Kama wheat',\n",
    "             'Kama wheat',\n",
    "             'Kama wheat',\n",
    "             'Kama wheat',\n",
    "             'Kama wheat',\n",
    "             'Kama wheat',\n",
    "             'Rosa wheat',\n",
    "             'Rosa wheat',\n",
    "             'Rosa wheat',\n",
    "             'Rosa wheat',\n",
    "             'Rosa wheat',\n",
    "             'Rosa wheat',\n",
    "             'Rosa wheat',\n",
    "             'Rosa wheat',\n",
    "             'Rosa wheat',\n",
    "             'Rosa wheat',\n",
    "             'Rosa wheat',\n",
    "             'Rosa wheat',\n",
    "             'Rosa wheat',\n",
    "             'Rosa wheat',\n",
    "             'Rosa wheat',\n",
    "             'Rosa wheat',\n",
    "             'Rosa wheat',\n",
    "             'Rosa wheat',\n",
    "             'Rosa wheat',\n",
    "             'Rosa wheat',\n",
    "             'Rosa wheat',\n",
    "             'Rosa wheat',\n",
    "             'Rosa wheat',\n",
    "             'Rosa wheat',\n",
    "             'Rosa wheat',\n",
    "             'Rosa wheat',\n",
    "             'Rosa wheat',\n",
    "             'Rosa wheat',\n",
    "             'Rosa wheat',\n",
    "             'Rosa wheat',\n",
    "             'Rosa wheat',\n",
    "             'Rosa wheat',\n",
    "             'Rosa wheat',\n",
    "             'Rosa wheat',\n",
    "             'Rosa wheat',\n",
    "             'Rosa wheat',\n",
    "             'Rosa wheat',\n",
    "             'Rosa wheat',\n",
    "             'Rosa wheat',\n",
    "             'Rosa wheat',\n",
    "             'Rosa wheat',\n",
    "             'Rosa wheat',\n",
    "             'Rosa wheat',\n",
    "             'Rosa wheat',\n",
    "             'Rosa wheat',\n",
    "             'Rosa wheat',\n",
    "             'Rosa wheat',\n",
    "             'Rosa wheat',\n",
    "             'Rosa wheat',\n",
    "             'Rosa wheat',\n",
    "             'Rosa wheat',\n",
    "             'Rosa wheat',\n",
    "             'Rosa wheat',\n",
    "             'Rosa wheat',\n",
    "             'Rosa wheat',\n",
    "             'Rosa wheat',\n",
    "             'Rosa wheat',\n",
    "             'Rosa wheat',\n",
    "             'Rosa wheat',\n",
    "             'Rosa wheat',\n",
    "             'Rosa wheat',\n",
    "             'Rosa wheat',\n",
    "             'Rosa wheat',\n",
    "             'Rosa wheat',\n",
    "             'Rosa wheat',\n",
    "             'Rosa wheat',\n",
    "             'Rosa wheat',\n",
    "             'Rosa wheat',\n",
    "             'Rosa wheat',\n",
    "             'Rosa wheat',\n",
    "             'Canadian wheat',\n",
    "             'Canadian wheat',\n",
    "             'Canadian wheat',\n",
    "             'Canadian wheat',\n",
    "             'Canadian wheat',\n",
    "             'Canadian wheat',\n",
    "             'Canadian wheat',\n",
    "             'Canadian wheat',\n",
    "             'Canadian wheat',\n",
    "             'Canadian wheat',\n",
    "             'Canadian wheat',\n",
    "             'Canadian wheat',\n",
    "             'Canadian wheat',\n",
    "             'Canadian wheat',\n",
    "             'Canadian wheat',\n",
    "             'Canadian wheat',\n",
    "             'Canadian wheat',\n",
    "             'Canadian wheat',\n",
    "             'Canadian wheat',\n",
    "             'Canadian wheat',\n",
    "             'Canadian wheat',\n",
    "             'Canadian wheat',\n",
    "             'Canadian wheat',\n",
    "             'Canadian wheat',\n",
    "             'Canadian wheat',\n",
    "             'Canadian wheat',\n",
    "             'Canadian wheat',\n",
    "             'Canadian wheat',\n",
    "             'Canadian wheat',\n",
    "             'Canadian wheat',\n",
    "             'Canadian wheat',\n",
    "             'Canadian wheat',\n",
    "             'Canadian wheat',\n",
    "             'Canadian wheat',\n",
    "             'Canadian wheat',\n",
    "             'Canadian wheat',\n",
    "             'Canadian wheat',\n",
    "             'Canadian wheat',\n",
    "             'Canadian wheat',\n",
    "             'Canadian wheat',\n",
    "             'Canadian wheat',\n",
    "             'Canadian wheat',\n",
    "             'Canadian wheat',\n",
    "             'Canadian wheat',\n",
    "             'Canadian wheat',\n",
    "             'Canadian wheat',\n",
    "             'Canadian wheat',\n",
    "             'Canadian wheat',\n",
    "             'Canadian wheat',\n",
    "             'Canadian wheat',\n",
    "             'Canadian wheat',\n",
    "             'Canadian wheat',\n",
    "             'Canadian wheat',\n",
    "             'Canadian wheat',\n",
    "             'Canadian wheat',\n",
    "             'Canadian wheat',\n",
    "             'Canadian wheat',\n",
    "             'Canadian wheat',\n",
    "             'Canadian wheat',\n",
    "             'Canadian wheat',\n",
    "             'Canadian wheat',\n",
    "             'Canadian wheat',\n",
    "             'Canadian wheat',\n",
    "             'Canadian wheat',\n",
    "             'Canadian wheat',\n",
    "             'Canadian wheat',\n",
    "             'Canadian wheat',\n",
    "             'Canadian wheat',\n",
    "             'Canadian wheat',\n",
    "             'Canadian wheat']"
   ]
  },
  {
   "cell_type": "code",
   "execution_count": 29,
   "metadata": {},
   "outputs": [
    {
     "data": {
      "text/plain": [
       "210"
      ]
     },
     "execution_count": 29,
     "metadata": {},
     "output_type": "execute_result"
    }
   ],
   "source": [
    "len(varieties)"
   ]
  },
  {
   "cell_type": "code",
   "execution_count": 30,
   "metadata": {},
   "outputs": [],
   "source": [
    "# Create a dataframe with labels and varieties as columns\n",
    "myFrame = pd.DataFrame({'labels': labels, 'varieties': varieties})\n",
    "\n",
    "# Create cross-tab\n",
    "ct = pd.crosstab(myFrame['labels'], myFrame['varieties'])"
   ]
  },
  {
   "cell_type": "code",
   "execution_count": 31,
   "metadata": {},
   "outputs": [
    {
     "data": {
      "text/html": [
       "<div>\n",
       "<style scoped>\n",
       "    .dataframe tbody tr th:only-of-type {\n",
       "        vertical-align: middle;\n",
       "    }\n",
       "\n",
       "    .dataframe tbody tr th {\n",
       "        vertical-align: top;\n",
       "    }\n",
       "\n",
       "    .dataframe thead th {\n",
       "        text-align: right;\n",
       "    }\n",
       "</style>\n",
       "<table border=\"1\" class=\"dataframe\">\n",
       "  <thead>\n",
       "    <tr style=\"text-align: right;\">\n",
       "      <th>varieties</th>\n",
       "      <th>Canadian wheat</th>\n",
       "      <th>Kama wheat</th>\n",
       "      <th>Rosa wheat</th>\n",
       "    </tr>\n",
       "    <tr>\n",
       "      <th>labels</th>\n",
       "      <th></th>\n",
       "      <th></th>\n",
       "      <th></th>\n",
       "    </tr>\n",
       "  </thead>\n",
       "  <tbody>\n",
       "    <tr>\n",
       "      <th>0</th>\n",
       "      <td>2</td>\n",
       "      <td>60</td>\n",
       "      <td>10</td>\n",
       "    </tr>\n",
       "    <tr>\n",
       "      <th>1</th>\n",
       "      <td>0</td>\n",
       "      <td>1</td>\n",
       "      <td>60</td>\n",
       "    </tr>\n",
       "    <tr>\n",
       "      <th>2</th>\n",
       "      <td>68</td>\n",
       "      <td>9</td>\n",
       "      <td>0</td>\n",
       "    </tr>\n",
       "  </tbody>\n",
       "</table>\n",
       "</div>"
      ],
      "text/plain": [
       "varieties  Canadian wheat  Kama wheat  Rosa wheat\n",
       "labels                                           \n",
       "0                       2          60          10\n",
       "1                       0           1          60\n",
       "2                      68           9           0"
      ]
     },
     "execution_count": 31,
     "metadata": {},
     "output_type": "execute_result"
    }
   ],
   "source": [
    "ct"
   ]
  },
  {
   "cell_type": "markdown",
   "metadata": {},
   "source": [
    "The cross-tabulation shows that the 3 varieties of grain seperated really with  clusters"
   ]
  },
  {
   "cell_type": "markdown",
   "metadata": {},
   "source": [
    "## Hierarchical clustering"
   ]
  },
  {
   "cell_type": "code",
   "execution_count": 32,
   "metadata": {},
   "outputs": [],
   "source": [
    "from scipy.cluster.hierarchy import linkage, dendrogram"
   ]
  },
  {
   "cell_type": "code",
   "execution_count": 36,
   "metadata": {},
   "outputs": [
    {
     "data": {
      "image/png": "[encoded data removed]",
      "text/plain": [
       "<Figure size 432x288 with 1 Axes>"
      ]
     },
     "metadata": {
      "needs_background": "light"
     },
     "output_type": "display_data"
    }
   ],
   "source": [
    "# calculate linkages\n",
    "merging = linkage(X[:42], method='complete')\n",
    "\n",
    "#plt.figure(figsize=(30, 30))\n",
    "# plot the dendrogram\n",
    "dendrogram(merging,\n",
    "          labels=varieties[:42],\n",
    "          leaf_rotation=90,\n",
    "          leaf_font_size=6)\n",
    "\n",
    "plt.show()"
   ]
  },
  {
   "cell_type": "code",
   "execution_count": null,
   "metadata": {},
   "outputs": [],
   "source": []
  }
 ],
 "metadata": {
  "kernelspec": {
   "display_name": "Python 3",
   "language": "python",
   "name": "python3"
  },
  "language_info": {
   "codemirror_mode": {
    "name": "ipython",
    "version": 3
   },
   "file_extension": ".py",
   "mimetype": "text/x-python",
   "name": "python",
   "nbconvert_exporter": "python",
   "pygments_lexer": "ipython3",
   "version": "3.7.3"
  }
 },
 "nbformat": 4,
 "nbformat_minor": 2
}
